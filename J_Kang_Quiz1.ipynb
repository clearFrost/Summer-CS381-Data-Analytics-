{
  "nbformat": 4,
  "nbformat_minor": 0,
  "metadata": {
    "colab": {
      "name": "J_Kang_Quiz1.ipynb",
      "provenance": [],
      "collapsed_sections": []
    },
    "kernelspec": {
      "name": "python3",
      "display_name": "Python 3"
    },
    "language_info": {
      "name": "python"
    }
  },
  "cells": [
    {
      "cell_type": "markdown",
      "source": [
        "#Diamonds"
      ],
      "metadata": {
        "id": "OlFvAb3nGDvc"
      }
    },
    {
      "cell_type": "code",
      "source": [
        "import pandas as pd\n",
        "import seaborn as sns\n",
        "import numpy as np\n",
        "import matplotlib.pyplot as plt\n",
        "\n",
        "df = pd.read_csv(\"https://raw.githubusercontent.com/Skyfallup/Summer-CSCI381-11/main/diamonds.csv\",index_col=0)"
      ],
      "metadata": {
        "id": "gDi1OFIbFUxJ"
      },
      "execution_count": 2,
      "outputs": []
    },
    {
      "cell_type": "markdown",
      "source": [
        "##Data Summary\n"
      ],
      "metadata": {
        "id": "3CpUUDPBEivs"
      }
    },
    {
      "cell_type": "markdown",
      "source": [
        "**Carat**(0.2--5.01)- A carat is a way to measure the weight of a diamond. A full carat weighs 200 milligrams. There are many ways to describe the weight of a diamond in terms of a carat. For example, a jeweler may call .25 carats a 'twenty-five pointer'. A way jewelers would describe a carat if it were greater than one would be in terms of the carat and then the decimal for instance, 1.08 carat would be called \"one point oh eight carats.\"(https://4cs.gia.edu/en-us/diamond-carat-weight/) \n",
        "\n",
        "\n",
        "**Cut**(Fair, Good, Very Good, Premium, Ideal)- A cut is how well a diamond interacts with light. The better the cut the better the final beauty and worth. Usually connected with the cut is how well reflects off the diamond. A very well symmetric and deep diamond will directly affect the return of light. There are three things used to study how well a diamond interacts with light these are:\n",
        "*  Brightness: white light reflected from the diamond.\n",
        "* Fire: How dispersed white light is onto all the colors of the rainbow.\n",
        "*  Scintillation: Amount of sparkle a diamond creates, as well as the pattern of light caused by the reflections in the diamond.\n",
        "\n",
        "(https://4cs.gia.edu/en-us/diamond-cut/)\n",
        "\n",
        "**Color**(D (Best) to J (Worst))- The colors of diamonds also affect their value. With the highest valued color being D, which is considered \"absolutely\" colorless. As the color of diamonds go down from D to J the diamonds enter the range of showing color usually yellow tones/hints. Unless looked side by side to other ranked diamonds the naked eye will not be able to detect the color tones. Color is also more visible in diamonds that are larger. (https://www.bluenile.com/education/diamonds/color)\n",
        "\n",
        "**Clarity**(I1 (Worst), SI2, SI1, VS2, VS1, VVS2, VVS1, IF (Best))- Clarity refers to how many blemishes and inclusions a diamond has. There are no completely pure diamonds, however trying to get as close to complete purity is what the clarity scale is for. I1 being the worst, in other words having the most blemishes, inclusions and IF being the best having the least number of blemishes and inclusions.\n",
        "(https://4cs.gia.edu/en-us/diamond-clarity/)\n",
        "\n",
        "**X**(0--10.74)- X refers to the length of the diamond. Our dataset measures in millimeters.\n",
        "\n",
        "**Y**(0--58.9)- Y refers to the width of the diamond. Once again measured in millimeters.\n",
        "\n",
        "**Depth**(43-79)- Depth refers to the total depth percentage which is achieved through the formula z / mean(x,y).\n",
        "\n",
        "**Table**(43-95) - Table is the width of the top of a diamond relative to the widest point. The flat area on top of the diamond is the table when looking directly above a diamond. The table plays a big role in how sparkly the diamond is. (https://www.diamonds.pro/education/diamond-depth-and-table/)\n",
        "\n",
        "**4C's**- The standard of modern society for analyzing the quality of diamonds are the 4C's. The four being Color, Clarity, Cut and Carat Weight.(https://4cs.gia.edu/en-us/4cs-diamond-quality/)\n",
        "\n",
        "**Number of Diamonds** In our data set we have 53,940 diamonds we got this through our use of df.describe() below.\n"
      ],
      "metadata": {
        "id": "WLRIPTjMEp_f"
      }
    },
    {
      "cell_type": "markdown",
      "source": [
        "**Datatypes of Attributes** Below contains the datatypes of the attributes in the dataset."
      ],
      "metadata": {
        "id": "-OjUcTrxeYsy"
      }
    },
    {
      "cell_type": "code",
      "source": [
        "df.dtypes"
      ],
      "metadata": {
        "colab": {
          "base_uri": "https://localhost:8080/"
        },
        "id": "H1UiDMGHeHZc",
        "outputId": "2d3a4bcc-522f-43fc-93ee-cdfa5417360d"
      },
      "execution_count": 3,
      "outputs": [
        {
          "output_type": "execute_result",
          "data": {
            "text/plain": [
              "carat      float64\n",
              "cut         object\n",
              "color       object\n",
              "clarity     object\n",
              "depth      float64\n",
              "table      float64\n",
              "price        int64\n",
              "x          float64\n",
              "y          float64\n",
              "z          float64\n",
              "dtype: object"
            ]
          },
          "metadata": {},
          "execution_count": 3
        }
      ]
    },
    {
      "cell_type": "markdown",
      "source": [
        "##Exploratory Data Analysis"
      ],
      "metadata": {
        "id": "Qo4wjpv0VBMy"
      }
    },
    {
      "cell_type": "code",
      "source": [
        "df.describe()"
      ],
      "metadata": {
        "colab": {
          "base_uri": "https://localhost:8080/",
          "height": 300
        },
        "id": "W3wZ8bSfWkXv",
        "outputId": "d5d5f358-29c2-47f0-c1f9-aea2b9c5fcae"
      },
      "execution_count": 4,
      "outputs": [
        {
          "output_type": "execute_result",
          "data": {
            "text/plain": [
              "              carat         depth         table         price             x  \\\n",
              "count  53940.000000  53940.000000  53940.000000  53940.000000  53940.000000   \n",
              "mean       0.797940     61.749405     57.457184   3932.799722      5.731157   \n",
              "std        0.474011      1.432621      2.234491   3989.439738      1.121761   \n",
              "min        0.200000     43.000000     43.000000    326.000000      0.000000   \n",
              "25%        0.400000     61.000000     56.000000    950.000000      4.710000   \n",
              "50%        0.700000     61.800000     57.000000   2401.000000      5.700000   \n",
              "75%        1.040000     62.500000     59.000000   5324.250000      6.540000   \n",
              "max        5.010000     79.000000     95.000000  18823.000000     10.740000   \n",
              "\n",
              "                  y             z  \n",
              "count  53940.000000  53940.000000  \n",
              "mean       5.734526      3.538734  \n",
              "std        1.142135      0.705699  \n",
              "min        0.000000      0.000000  \n",
              "25%        4.720000      2.910000  \n",
              "50%        5.710000      3.530000  \n",
              "75%        6.540000      4.040000  \n",
              "max       58.900000     31.800000  "
            ],
            "text/html": [
              "\n",
              "  <div id=\"df-c4eb2d16-b300-4583-bbd1-151e3e8449d7\">\n",
              "    <div class=\"colab-df-container\">\n",
              "      <div>\n",
              "<style scoped>\n",
              "    .dataframe tbody tr th:only-of-type {\n",
              "        vertical-align: middle;\n",
              "    }\n",
              "\n",
              "    .dataframe tbody tr th {\n",
              "        vertical-align: top;\n",
              "    }\n",
              "\n",
              "    .dataframe thead th {\n",
              "        text-align: right;\n",
              "    }\n",
              "</style>\n",
              "<table border=\"1\" class=\"dataframe\">\n",
              "  <thead>\n",
              "    <tr style=\"text-align: right;\">\n",
              "      <th></th>\n",
              "      <th>carat</th>\n",
              "      <th>depth</th>\n",
              "      <th>table</th>\n",
              "      <th>price</th>\n",
              "      <th>x</th>\n",
              "      <th>y</th>\n",
              "      <th>z</th>\n",
              "    </tr>\n",
              "  </thead>\n",
              "  <tbody>\n",
              "    <tr>\n",
              "      <th>count</th>\n",
              "      <td>53940.000000</td>\n",
              "      <td>53940.000000</td>\n",
              "      <td>53940.000000</td>\n",
              "      <td>53940.000000</td>\n",
              "      <td>53940.000000</td>\n",
              "      <td>53940.000000</td>\n",
              "      <td>53940.000000</td>\n",
              "    </tr>\n",
              "    <tr>\n",
              "      <th>mean</th>\n",
              "      <td>0.797940</td>\n",
              "      <td>61.749405</td>\n",
              "      <td>57.457184</td>\n",
              "      <td>3932.799722</td>\n",
              "      <td>5.731157</td>\n",
              "      <td>5.734526</td>\n",
              "      <td>3.538734</td>\n",
              "    </tr>\n",
              "    <tr>\n",
              "      <th>std</th>\n",
              "      <td>0.474011</td>\n",
              "      <td>1.432621</td>\n",
              "      <td>2.234491</td>\n",
              "      <td>3989.439738</td>\n",
              "      <td>1.121761</td>\n",
              "      <td>1.142135</td>\n",
              "      <td>0.705699</td>\n",
              "    </tr>\n",
              "    <tr>\n",
              "      <th>min</th>\n",
              "      <td>0.200000</td>\n",
              "      <td>43.000000</td>\n",
              "      <td>43.000000</td>\n",
              "      <td>326.000000</td>\n",
              "      <td>0.000000</td>\n",
              "      <td>0.000000</td>\n",
              "      <td>0.000000</td>\n",
              "    </tr>\n",
              "    <tr>\n",
              "      <th>25%</th>\n",
              "      <td>0.400000</td>\n",
              "      <td>61.000000</td>\n",
              "      <td>56.000000</td>\n",
              "      <td>950.000000</td>\n",
              "      <td>4.710000</td>\n",
              "      <td>4.720000</td>\n",
              "      <td>2.910000</td>\n",
              "    </tr>\n",
              "    <tr>\n",
              "      <th>50%</th>\n",
              "      <td>0.700000</td>\n",
              "      <td>61.800000</td>\n",
              "      <td>57.000000</td>\n",
              "      <td>2401.000000</td>\n",
              "      <td>5.700000</td>\n",
              "      <td>5.710000</td>\n",
              "      <td>3.530000</td>\n",
              "    </tr>\n",
              "    <tr>\n",
              "      <th>75%</th>\n",
              "      <td>1.040000</td>\n",
              "      <td>62.500000</td>\n",
              "      <td>59.000000</td>\n",
              "      <td>5324.250000</td>\n",
              "      <td>6.540000</td>\n",
              "      <td>6.540000</td>\n",
              "      <td>4.040000</td>\n",
              "    </tr>\n",
              "    <tr>\n",
              "      <th>max</th>\n",
              "      <td>5.010000</td>\n",
              "      <td>79.000000</td>\n",
              "      <td>95.000000</td>\n",
              "      <td>18823.000000</td>\n",
              "      <td>10.740000</td>\n",
              "      <td>58.900000</td>\n",
              "      <td>31.800000</td>\n",
              "    </tr>\n",
              "  </tbody>\n",
              "</table>\n",
              "</div>\n",
              "      <button class=\"colab-df-convert\" onclick=\"convertToInteractive('df-c4eb2d16-b300-4583-bbd1-151e3e8449d7')\"\n",
              "              title=\"Convert this dataframe to an interactive table.\"\n",
              "              style=\"display:none;\">\n",
              "        \n",
              "  <svg xmlns=\"http://www.w3.org/2000/svg\" height=\"24px\"viewBox=\"0 0 24 24\"\n",
              "       width=\"24px\">\n",
              "    <path d=\"M0 0h24v24H0V0z\" fill=\"none\"/>\n",
              "    <path d=\"M18.56 5.44l.94 2.06.94-2.06 2.06-.94-2.06-.94-.94-2.06-.94 2.06-2.06.94zm-11 1L8.5 8.5l.94-2.06 2.06-.94-2.06-.94L8.5 2.5l-.94 2.06-2.06.94zm10 10l.94 2.06.94-2.06 2.06-.94-2.06-.94-.94-2.06-.94 2.06-2.06.94z\"/><path d=\"M17.41 7.96l-1.37-1.37c-.4-.4-.92-.59-1.43-.59-.52 0-1.04.2-1.43.59L10.3 9.45l-7.72 7.72c-.78.78-.78 2.05 0 2.83L4 21.41c.39.39.9.59 1.41.59.51 0 1.02-.2 1.41-.59l7.78-7.78 2.81-2.81c.8-.78.8-2.07 0-2.86zM5.41 20L4 18.59l7.72-7.72 1.47 1.35L5.41 20z\"/>\n",
              "  </svg>\n",
              "      </button>\n",
              "      \n",
              "  <style>\n",
              "    .colab-df-container {\n",
              "      display:flex;\n",
              "      flex-wrap:wrap;\n",
              "      gap: 12px;\n",
              "    }\n",
              "\n",
              "    .colab-df-convert {\n",
              "      background-color: #E8F0FE;\n",
              "      border: none;\n",
              "      border-radius: 50%;\n",
              "      cursor: pointer;\n",
              "      display: none;\n",
              "      fill: #1967D2;\n",
              "      height: 32px;\n",
              "      padding: 0 0 0 0;\n",
              "      width: 32px;\n",
              "    }\n",
              "\n",
              "    .colab-df-convert:hover {\n",
              "      background-color: #E2EBFA;\n",
              "      box-shadow: 0px 1px 2px rgba(60, 64, 67, 0.3), 0px 1px 3px 1px rgba(60, 64, 67, 0.15);\n",
              "      fill: #174EA6;\n",
              "    }\n",
              "\n",
              "    [theme=dark] .colab-df-convert {\n",
              "      background-color: #3B4455;\n",
              "      fill: #D2E3FC;\n",
              "    }\n",
              "\n",
              "    [theme=dark] .colab-df-convert:hover {\n",
              "      background-color: #434B5C;\n",
              "      box-shadow: 0px 1px 3px 1px rgba(0, 0, 0, 0.15);\n",
              "      filter: drop-shadow(0px 1px 2px rgba(0, 0, 0, 0.3));\n",
              "      fill: #FFFFFF;\n",
              "    }\n",
              "  </style>\n",
              "\n",
              "      <script>\n",
              "        const buttonEl =\n",
              "          document.querySelector('#df-c4eb2d16-b300-4583-bbd1-151e3e8449d7 button.colab-df-convert');\n",
              "        buttonEl.style.display =\n",
              "          google.colab.kernel.accessAllowed ? 'block' : 'none';\n",
              "\n",
              "        async function convertToInteractive(key) {\n",
              "          const element = document.querySelector('#df-c4eb2d16-b300-4583-bbd1-151e3e8449d7');\n",
              "          const dataTable =\n",
              "            await google.colab.kernel.invokeFunction('convertToInteractive',\n",
              "                                                     [key], {});\n",
              "          if (!dataTable) return;\n",
              "\n",
              "          const docLinkHtml = 'Like what you see? Visit the ' +\n",
              "            '<a target=\"_blank\" href=https://colab.research.google.com/notebooks/data_table.ipynb>data table notebook</a>'\n",
              "            + ' to learn more about interactive tables.';\n",
              "          element.innerHTML = '';\n",
              "          dataTable['output_type'] = 'display_data';\n",
              "          await google.colab.output.renderOutput(dataTable, element);\n",
              "          const docLink = document.createElement('div');\n",
              "          docLink.innerHTML = docLinkHtml;\n",
              "          element.appendChild(docLink);\n",
              "        }\n",
              "      </script>\n",
              "    </div>\n",
              "  </div>\n",
              "  "
            ]
          },
          "metadata": {},
          "execution_count": 4
        }
      ]
    },
    {
      "cell_type": "markdown",
      "source": [
        "**Summary Statistics**\n",
        "\n",
        "We can see thanks to pandas a general summary of the statistics in our pandas data frame that we imported from our csv dataset. From here we can easily see general information about our data and notice immediately some anomolies specifically the minimum value of our X, Y and Z."
      ],
      "metadata": {
        "id": "nefv73X0Xrh1"
      }
    },
    {
      "cell_type": "code",
      "source": [
        "df.replace(0,df.mean(axis=0),inplace=True)\n",
        "df.describe()"
      ],
      "metadata": {
        "colab": {
          "base_uri": "https://localhost:8080/",
          "height": 336
        },
        "id": "VqtcvZtarwrq",
        "outputId": "df03067f-8c7f-472d-da46-bfba305fc47b"
      },
      "execution_count": 5,
      "outputs": [
        {
          "output_type": "stream",
          "name": "stderr",
          "text": [
            "/usr/local/lib/python3.7/dist-packages/ipykernel_launcher.py:1: FutureWarning: Dropping of nuisance columns in DataFrame reductions (with 'numeric_only=None') is deprecated; in a future version this will raise TypeError.  Select only valid columns before calling the reduction.\n",
            "  \"\"\"Entry point for launching an IPython kernel.\n"
          ]
        },
        {
          "output_type": "execute_result",
          "data": {
            "text/plain": [
              "              carat         depth         table         price             x  \\\n",
              "count  53940.000000  53940.000000  53940.000000  53940.000000  53940.000000   \n",
              "mean       0.797940     61.749405     57.457184   3932.799722      5.732007   \n",
              "std        0.474011      1.432621      2.234491   3989.439738      1.119587   \n",
              "min        0.200000     43.000000     43.000000    326.000000      3.730000   \n",
              "25%        0.400000     61.000000     56.000000    950.000000      4.710000   \n",
              "50%        0.700000     61.800000     57.000000   2401.000000      5.700000   \n",
              "75%        1.040000     62.500000     59.000000   5324.250000      6.540000   \n",
              "max        5.010000     79.000000     95.000000  18823.000000     10.740000   \n",
              "\n",
              "                  y             z  \n",
              "count  53940.000000  53940.000000  \n",
              "mean       5.735270      3.540046  \n",
              "std        1.140265      0.702400  \n",
              "min        3.680000      1.070000  \n",
              "25%        4.720000      2.910000  \n",
              "50%        5.710000      3.530000  \n",
              "75%        6.540000      4.040000  \n",
              "max       58.900000     31.800000  "
            ],
            "text/html": [
              "\n",
              "  <div id=\"df-c09aedab-4444-47bf-b489-4a8ee99e28c1\">\n",
              "    <div class=\"colab-df-container\">\n",
              "      <div>\n",
              "<style scoped>\n",
              "    .dataframe tbody tr th:only-of-type {\n",
              "        vertical-align: middle;\n",
              "    }\n",
              "\n",
              "    .dataframe tbody tr th {\n",
              "        vertical-align: top;\n",
              "    }\n",
              "\n",
              "    .dataframe thead th {\n",
              "        text-align: right;\n",
              "    }\n",
              "</style>\n",
              "<table border=\"1\" class=\"dataframe\">\n",
              "  <thead>\n",
              "    <tr style=\"text-align: right;\">\n",
              "      <th></th>\n",
              "      <th>carat</th>\n",
              "      <th>depth</th>\n",
              "      <th>table</th>\n",
              "      <th>price</th>\n",
              "      <th>x</th>\n",
              "      <th>y</th>\n",
              "      <th>z</th>\n",
              "    </tr>\n",
              "  </thead>\n",
              "  <tbody>\n",
              "    <tr>\n",
              "      <th>count</th>\n",
              "      <td>53940.000000</td>\n",
              "      <td>53940.000000</td>\n",
              "      <td>53940.000000</td>\n",
              "      <td>53940.000000</td>\n",
              "      <td>53940.000000</td>\n",
              "      <td>53940.000000</td>\n",
              "      <td>53940.000000</td>\n",
              "    </tr>\n",
              "    <tr>\n",
              "      <th>mean</th>\n",
              "      <td>0.797940</td>\n",
              "      <td>61.749405</td>\n",
              "      <td>57.457184</td>\n",
              "      <td>3932.799722</td>\n",
              "      <td>5.732007</td>\n",
              "      <td>5.735270</td>\n",
              "      <td>3.540046</td>\n",
              "    </tr>\n",
              "    <tr>\n",
              "      <th>std</th>\n",
              "      <td>0.474011</td>\n",
              "      <td>1.432621</td>\n",
              "      <td>2.234491</td>\n",
              "      <td>3989.439738</td>\n",
              "      <td>1.119587</td>\n",
              "      <td>1.140265</td>\n",
              "      <td>0.702400</td>\n",
              "    </tr>\n",
              "    <tr>\n",
              "      <th>min</th>\n",
              "      <td>0.200000</td>\n",
              "      <td>43.000000</td>\n",
              "      <td>43.000000</td>\n",
              "      <td>326.000000</td>\n",
              "      <td>3.730000</td>\n",
              "      <td>3.680000</td>\n",
              "      <td>1.070000</td>\n",
              "    </tr>\n",
              "    <tr>\n",
              "      <th>25%</th>\n",
              "      <td>0.400000</td>\n",
              "      <td>61.000000</td>\n",
              "      <td>56.000000</td>\n",
              "      <td>950.000000</td>\n",
              "      <td>4.710000</td>\n",
              "      <td>4.720000</td>\n",
              "      <td>2.910000</td>\n",
              "    </tr>\n",
              "    <tr>\n",
              "      <th>50%</th>\n",
              "      <td>0.700000</td>\n",
              "      <td>61.800000</td>\n",
              "      <td>57.000000</td>\n",
              "      <td>2401.000000</td>\n",
              "      <td>5.700000</td>\n",
              "      <td>5.710000</td>\n",
              "      <td>3.530000</td>\n",
              "    </tr>\n",
              "    <tr>\n",
              "      <th>75%</th>\n",
              "      <td>1.040000</td>\n",
              "      <td>62.500000</td>\n",
              "      <td>59.000000</td>\n",
              "      <td>5324.250000</td>\n",
              "      <td>6.540000</td>\n",
              "      <td>6.540000</td>\n",
              "      <td>4.040000</td>\n",
              "    </tr>\n",
              "    <tr>\n",
              "      <th>max</th>\n",
              "      <td>5.010000</td>\n",
              "      <td>79.000000</td>\n",
              "      <td>95.000000</td>\n",
              "      <td>18823.000000</td>\n",
              "      <td>10.740000</td>\n",
              "      <td>58.900000</td>\n",
              "      <td>31.800000</td>\n",
              "    </tr>\n",
              "  </tbody>\n",
              "</table>\n",
              "</div>\n",
              "      <button class=\"colab-df-convert\" onclick=\"convertToInteractive('df-c09aedab-4444-47bf-b489-4a8ee99e28c1')\"\n",
              "              title=\"Convert this dataframe to an interactive table.\"\n",
              "              style=\"display:none;\">\n",
              "        \n",
              "  <svg xmlns=\"http://www.w3.org/2000/svg\" height=\"24px\"viewBox=\"0 0 24 24\"\n",
              "       width=\"24px\">\n",
              "    <path d=\"M0 0h24v24H0V0z\" fill=\"none\"/>\n",
              "    <path d=\"M18.56 5.44l.94 2.06.94-2.06 2.06-.94-2.06-.94-.94-2.06-.94 2.06-2.06.94zm-11 1L8.5 8.5l.94-2.06 2.06-.94-2.06-.94L8.5 2.5l-.94 2.06-2.06.94zm10 10l.94 2.06.94-2.06 2.06-.94-2.06-.94-.94-2.06-.94 2.06-2.06.94z\"/><path d=\"M17.41 7.96l-1.37-1.37c-.4-.4-.92-.59-1.43-.59-.52 0-1.04.2-1.43.59L10.3 9.45l-7.72 7.72c-.78.78-.78 2.05 0 2.83L4 21.41c.39.39.9.59 1.41.59.51 0 1.02-.2 1.41-.59l7.78-7.78 2.81-2.81c.8-.78.8-2.07 0-2.86zM5.41 20L4 18.59l7.72-7.72 1.47 1.35L5.41 20z\"/>\n",
              "  </svg>\n",
              "      </button>\n",
              "      \n",
              "  <style>\n",
              "    .colab-df-container {\n",
              "      display:flex;\n",
              "      flex-wrap:wrap;\n",
              "      gap: 12px;\n",
              "    }\n",
              "\n",
              "    .colab-df-convert {\n",
              "      background-color: #E8F0FE;\n",
              "      border: none;\n",
              "      border-radius: 50%;\n",
              "      cursor: pointer;\n",
              "      display: none;\n",
              "      fill: #1967D2;\n",
              "      height: 32px;\n",
              "      padding: 0 0 0 0;\n",
              "      width: 32px;\n",
              "    }\n",
              "\n",
              "    .colab-df-convert:hover {\n",
              "      background-color: #E2EBFA;\n",
              "      box-shadow: 0px 1px 2px rgba(60, 64, 67, 0.3), 0px 1px 3px 1px rgba(60, 64, 67, 0.15);\n",
              "      fill: #174EA6;\n",
              "    }\n",
              "\n",
              "    [theme=dark] .colab-df-convert {\n",
              "      background-color: #3B4455;\n",
              "      fill: #D2E3FC;\n",
              "    }\n",
              "\n",
              "    [theme=dark] .colab-df-convert:hover {\n",
              "      background-color: #434B5C;\n",
              "      box-shadow: 0px 1px 3px 1px rgba(0, 0, 0, 0.15);\n",
              "      filter: drop-shadow(0px 1px 2px rgba(0, 0, 0, 0.3));\n",
              "      fill: #FFFFFF;\n",
              "    }\n",
              "  </style>\n",
              "\n",
              "      <script>\n",
              "        const buttonEl =\n",
              "          document.querySelector('#df-c09aedab-4444-47bf-b489-4a8ee99e28c1 button.colab-df-convert');\n",
              "        buttonEl.style.display =\n",
              "          google.colab.kernel.accessAllowed ? 'block' : 'none';\n",
              "\n",
              "        async function convertToInteractive(key) {\n",
              "          const element = document.querySelector('#df-c09aedab-4444-47bf-b489-4a8ee99e28c1');\n",
              "          const dataTable =\n",
              "            await google.colab.kernel.invokeFunction('convertToInteractive',\n",
              "                                                     [key], {});\n",
              "          if (!dataTable) return;\n",
              "\n",
              "          const docLinkHtml = 'Like what you see? Visit the ' +\n",
              "            '<a target=\"_blank\" href=https://colab.research.google.com/notebooks/data_table.ipynb>data table notebook</a>'\n",
              "            + ' to learn more about interactive tables.';\n",
              "          element.innerHTML = '';\n",
              "          dataTable['output_type'] = 'display_data';\n",
              "          await google.colab.output.renderOutput(dataTable, element);\n",
              "          const docLink = document.createElement('div');\n",
              "          docLink.innerHTML = docLinkHtml;\n",
              "          element.appendChild(docLink);\n",
              "        }\n",
              "      </script>\n",
              "    </div>\n",
              "  </div>\n",
              "  "
            ]
          },
          "metadata": {},
          "execution_count": 5
        }
      ]
    },
    {
      "cell_type": "markdown",
      "source": [
        "To solve the issues of the \"0\" anomolies in X, Y and Z we can replace the 0's with the mean. Without the anomolies now our graphs will be more accurate to what we want to represent."
      ],
      "metadata": {
        "id": "AoBc9fscsL6O"
      }
    },
    {
      "cell_type": "code",
      "source": [
        "%matplotlib inline\n",
        "cutBPLT = df['cut'].value_counts().plot.bar(title = \"Diamond Quantity by Cuts\")"
      ],
      "metadata": {
        "colab": {
          "base_uri": "https://localhost:8080/",
          "height": 323
        },
        "id": "fSEKjrqIiK3p",
        "outputId": "24e9c08b-8e7f-4f7e-ad8b-8bb5c6280ead"
      },
      "execution_count": 6,
      "outputs": [
        {
          "output_type": "display_data",
          "data": {
            "text/plain": [
              "<Figure size 432x288 with 1 Axes>"
            ],
            "image/png": "[encoded data removed]"
          },
          "metadata": {
            "needs_background": "light"
          }
        }
      ]
    },
    {
      "cell_type": "markdown",
      "source": [
        "From the \"Diamond Quantity by Cuts\" graph we can see that the highest ranked cut by quality is also the most abundant. While the least ranked cut by quality makes up the least amount of diamonds."
      ],
      "metadata": {
        "id": "TDtyVFjymTi7"
      }
    },
    {
      "cell_type": "code",
      "source": [
        "colorBPLT = df['color'].value_counts().plot.bar(title = \"Diamond Quantity by Color\")"
      ],
      "metadata": {
        "colab": {
          "base_uri": "https://localhost:8080/",
          "height": 279
        },
        "id": "HQt2Ji-slZt0",
        "outputId": "6fea49ec-d898-4c41-90c0-855ae13341e5"
      },
      "execution_count": 7,
      "outputs": [
        {
          "output_type": "display_data",
          "data": {
            "text/plain": [
              "<Figure size 432x288 with 1 Axes>"
            ],
            "image/png": "[encoded data removed]"
          },
          "metadata": {
            "needs_background": "light"
          }
        }
      ]
    },
    {
      "cell_type": "markdown",
      "source": [
        "We can see that the case with the cuts, however, does not appear to be the same for color. As for color the highest rank would be D. However, D does not make up most of the diamonds, but it is G. G being the middle of the ranks in quality, makes up most of the diamonds. \n",
        "\n",
        " "
      ],
      "metadata": {
        "id": "679LVXDhnBcT"
      }
    },
    {
      "cell_type": "code",
      "source": [
        "clarityBPLT = df['clarity'].value_counts().plot.bar(title = \"Diamond Quantity by Clarity\")"
      ],
      "metadata": {
        "colab": {
          "base_uri": "https://localhost:8080/",
          "height": 298
        },
        "id": "4gK-rNoBljQe",
        "outputId": "fd2e256a-a64f-47e1-daa8-66544d7e9c65"
      },
      "execution_count": 8,
      "outputs": [
        {
          "output_type": "display_data",
          "data": {
            "text/plain": [
              "<Figure size 432x288 with 1 Axes>"
            ],
            "image/png": "[encoded data removed]"
          },
          "metadata": {
            "needs_background": "light"
          }
        }
      ]
    },
    {
      "cell_type": "markdown",
      "source": [
        "It seems there may be a pattern with clarity and color as unlike the with cuts where the highest quality was the most abundant, this times just like color for clarity the middle of all the qualities is the most popular."
      ],
      "metadata": {
        "id": "pdwkvafnt_uf"
      }
    },
    {
      "cell_type": "code",
      "source": [
        "df['carat'].hist()"
      ],
      "metadata": {
        "colab": {
          "base_uri": "https://localhost:8080/",
          "height": 283
        },
        "id": "6TXI2BvqvB_9",
        "outputId": "371504f4-6c0e-437c-d24f-271f67dc1d83"
      },
      "execution_count": 9,
      "outputs": [
        {
          "output_type": "execute_result",
          "data": {
            "text/plain": [
              "<matplotlib.axes._subplots.AxesSubplot at 0x7f05d4d09ad0>"
            ]
          },
          "metadata": {},
          "execution_count": 9
        },
        {
          "output_type": "display_data",
          "data": {
            "text/plain": [
              "<Figure size 432x288 with 1 Axes>"
            ],
            "image/png": "[encoded data removed]"
          },
          "metadata": {
            "needs_background": "light"
          }
        }
      ]
    },
    {
      "cell_type": "markdown",
      "source": [
        "The histogram graph of carat shows that most of the diamonds are between 0-1 carat. As the carats get larger we notice that the number of diamonds decreases."
      ],
      "metadata": {
        "id": "xjKCIeGnvREq"
      }
    },
    {
      "cell_type": "code",
      "source": [
        "df['x'].hist()"
      ],
      "metadata": {
        "colab": {
          "base_uri": "https://localhost:8080/",
          "height": 283
        },
        "id": "WdCXzM4Lv2Ht",
        "outputId": "da33e5e9-2942-4363-e1ba-6a60390415ac"
      },
      "execution_count": 10,
      "outputs": [
        {
          "output_type": "execute_result",
          "data": {
            "text/plain": [
              "<matplotlib.axes._subplots.AxesSubplot at 0x7f05d4ddb650>"
            ]
          },
          "metadata": {},
          "execution_count": 10
        },
        {
          "output_type": "display_data",
          "data": {
            "text/plain": [
              "<Figure size 432x288 with 1 Axes>"
            ],
            "image/png": "[encoded data removed]"
          },
          "metadata": {
            "needs_background": "light"
          }
        }
      ]
    },
    {
      "cell_type": "markdown",
      "source": [
        "As the X grows larger the number of diamonds decreases."
      ],
      "metadata": {
        "id": "N9zOl2DtzaJQ"
      }
    },
    {
      "cell_type": "code",
      "source": [
        "df['y'].hist()"
      ],
      "metadata": {
        "colab": {
          "base_uri": "https://localhost:8080/",
          "height": 283
        },
        "id": "JSQ0E_84v555",
        "outputId": "88747c6a-fbf3-4713-dbd7-a5239203081d"
      },
      "execution_count": 11,
      "outputs": [
        {
          "output_type": "execute_result",
          "data": {
            "text/plain": [
              "<matplotlib.axes._subplots.AxesSubplot at 0x7f05d4c61d50>"
            ]
          },
          "metadata": {},
          "execution_count": 11
        },
        {
          "output_type": "display_data",
          "data": {
            "text/plain": [
              "<Figure size 432x288 with 1 Axes>"
            ],
            "image/png": "[encoded data removed]"
          },
          "metadata": {
            "needs_background": "light"
          }
        }
      ]
    },
    {
      "cell_type": "markdown",
      "source": [
        "From the current histogram we can see that there is an outlier that is insanely wide in width, however we should not exclude it as it is possible to exist. Unlike when we removed the 0s."
      ],
      "metadata": {
        "id": "TA6ynpcHxHbx"
      }
    },
    {
      "cell_type": "code",
      "source": [
        "df['z'].hist()"
      ],
      "metadata": {
        "colab": {
          "base_uri": "https://localhost:8080/",
          "height": 283
        },
        "id": "FkZ2uN28wJ4z",
        "outputId": "0df3bf0e-6432-4dcf-eea6-e11fbf0a8b80"
      },
      "execution_count": 12,
      "outputs": [
        {
          "output_type": "execute_result",
          "data": {
            "text/plain": [
              "<matplotlib.axes._subplots.AxesSubplot at 0x7f05d4bbd090>"
            ]
          },
          "metadata": {},
          "execution_count": 12
        },
        {
          "output_type": "display_data",
          "data": {
            "text/plain": [
              "<Figure size 432x288 with 1 Axes>"
            ],
            "image/png": "[encoded data removed]"
          },
          "metadata": {
            "needs_background": "light"
          }
        }
      ]
    },
    {
      "cell_type": "markdown",
      "source": [
        "Same goes for the depth as it is possible that there may be a diamond with that large of a depth. It is in the realm of possibility."
      ],
      "metadata": {
        "id": "ODPSMUPMyDBf"
      }
    },
    {
      "cell_type": "code",
      "source": [
        "correlation=df.corr()\n",
        "print(correlation)"
      ],
      "metadata": {
        "colab": {
          "base_uri": "https://localhost:8080/"
        },
        "id": "6VkuLKrHyxds",
        "outputId": "7c15ca2e-af09-41b5-fb73-90316b72942f"
      },
      "execution_count": 13,
      "outputs": [
        {
          "output_type": "stream",
          "name": "stdout",
          "text": [
            "          carat     depth     table     price         x         y         z\n",
            "carat  1.000000  0.028224  0.181618  0.921591  0.977640  0.953870  0.960431\n",
            "depth  0.028224  1.000000 -0.295779 -0.010647 -0.025093 -0.029138  0.094986\n",
            "table  0.181618 -0.295779  1.000000  0.127134  0.196078  0.184470  0.152426\n",
            "price  0.921591 -0.010647  0.127134  1.000000  0.887004  0.867653  0.867575\n",
            "x      0.977640 -0.025093  0.196078  0.887004  1.000000  0.974928  0.975111\n",
            "y      0.953870 -0.029138  0.184470  0.867653  0.974928  1.000000  0.956449\n",
            "z      0.960431  0.094986  0.152426  0.867575  0.975111  0.956449  1.000000\n"
          ]
        }
      ]
    },
    {
      "cell_type": "markdown",
      "source": [
        "From df.correlation we can see that carat, X, Y and Z have a positive with each other, in that as one attribute increases the other 3 have a chance to increase as well. We can also see that carat has a highly positive relationship with price as well, once again as carat or price increases it's likely that the other will increase too. "
      ],
      "metadata": {
        "id": "lAV3bPgN5wii"
      }
    },
    {
      "cell_type": "code",
      "source": [
        "sns.heatmap(correlation)"
      ],
      "metadata": {
        "colab": {
          "base_uri": "https://localhost:8080/",
          "height": 287
        },
        "id": "ycub16U37Vsj",
        "outputId": "6e97c3d2-0228-4b38-b8cf-feae31d73fab"
      },
      "execution_count": 14,
      "outputs": [
        {
          "output_type": "execute_result",
          "data": {
            "text/plain": [
              "<matplotlib.axes._subplots.AxesSubplot at 0x7f05d4acbb90>"
            ]
          },
          "metadata": {},
          "execution_count": 14
        },
        {
          "output_type": "display_data",
          "data": {
            "text/plain": [
              "<Figure size 432x288 with 2 Axes>"
            ],
            "image/png": "[encoded data removed]"
          },
          "metadata": {
            "needs_background": "light"
          }
        }
      ]
    },
    {
      "cell_type": "markdown",
      "source": [
        "A visual representation of the above correlation we can see that the previous statements made are now shown visually. carat, X, Y  and Z are a brighter color when relating to each other and carat is in bright relationship with price."
      ],
      "metadata": {
        "id": "crqmGnqh7tjS"
      }
    },
    {
      "cell_type": "markdown",
      "source": [
        "##Inferences"
      ],
      "metadata": {
        "id": "jP5CjEfJ8A3J"
      }
    },
    {
      "cell_type": "markdown",
      "source": [
        "1. **What proportion of diamonds are between .30 and 1.08 carats?**"
      ],
      "metadata": {
        "id": "C6HTT8dO_bJG"
      }
    },
    {
      "cell_type": "code",
      "source": [
        "#We know there is 53,940 diamonds so we just need to find out how many diamonds are between .30 and 1.08 carats\n",
        "#will be our final answer\n",
        "caratProportion = 0\n",
        "#counter to keep track of how much follow our conditions of  .30<x<1.08\n",
        "caratCounter = 0\n",
        "#make a list with all of the carat column\n",
        "caratList = df['carat'].tolist()\n",
        "#loop through whole list and see how many follow our conditions\n",
        "for x in caratList:\n",
        "  if x > .30 and x < 1.08:\n",
        "    caratCounter +=1\n",
        "#we know 53940 diamonds so we just divide it and we get the proportion\n",
        "caratProportion=caratCounter/53940\n",
        "#prints the proportion\n",
        "print(caratProportion)"
      ],
      "metadata": {
        "colab": {
          "base_uri": "https://localhost:8080/"
        },
        "id": "SdWOAZWo8kzM",
        "outputId": "12da3632-5334-415c-d489-99c0d08023b8"
      },
      "execution_count": 15,
      "outputs": [
        {
          "output_type": "stream",
          "name": "stdout",
          "text": [
            "0.6939933259176864\n"
          ]
        }
      ]
    },
    {
      "cell_type": "markdown",
      "source": [
        "0.6939933259176864\n"
      ],
      "metadata": {
        "id": "yRhUs6nmCy8N"
      }
    },
    {
      "cell_type": "markdown",
      "source": [
        "2.**How many diamonds have equal x and y dimensions?**"
      ],
      "metadata": {
        "id": "keOpAunj_7pP"
      }
    },
    {
      "cell_type": "code",
      "source": [
        "ylistCounter = 0\n",
        "xandysameCounter=0\n",
        "xList = df['x'].tolist()\n",
        "yList = df['y'].tolist()\n",
        "for x in xList:\n",
        "  if x == yList[ylistCounter]:\n",
        "    xandysameCounter+=1\n",
        "  ylistCounter+=1\n",
        "print(xandysameCounter)"
      ],
      "metadata": {
        "colab": {
          "base_uri": "https://localhost:8080/"
        },
        "id": "qOQbgOoBACQa",
        "outputId": "0ad82346-4bf2-40a4-82c3-13f989c18fdd"
      },
      "execution_count": 16,
      "outputs": [
        {
          "output_type": "stream",
          "name": "stdout",
          "text": [
            "10\n"
          ]
        }
      ]
    },
    {
      "cell_type": "markdown",
      "source": [
        "10"
      ],
      "metadata": {
        "id": "NEEy1wRgC0M5"
      }
    },
    {
      "cell_type": "markdown",
      "source": [
        "3.**How many of the diamonds have a carat value that is less than the mean carat value?**\n"
      ],
      "metadata": {
        "id": "i_fHvqcHB-xe"
      }
    },
    {
      "cell_type": "code",
      "source": [
        "#we know the mean carat value thanks to df.describe() earlier which is .797940\n",
        "lessthanmeanCarat = 0\n",
        "#go through whole list and if they are less than the mean add to counter\n",
        "for x in caratList:\n",
        "  if x < .797940:\n",
        "    lessthanmeanCarat+=1\n",
        "#print counter\n",
        "print(lessthanmeanCarat)"
      ],
      "metadata": {
        "colab": {
          "base_uri": "https://localhost:8080/"
        },
        "id": "P-j6LfFOCFmi",
        "outputId": "a0304e3c-b458-4d98-dbef-f955046f62d9"
      },
      "execution_count": 17,
      "outputs": [
        {
          "output_type": "stream",
          "name": "stdout",
          "text": [
            "31127\n"
          ]
        }
      ]
    },
    {
      "cell_type": "markdown",
      "source": [
        "31127"
      ],
      "metadata": {
        "id": "TYi4Vb4zC1YA"
      }
    },
    {
      "cell_type": "markdown",
      "source": [
        "4.**How many diamonds have a premium cut or better? Note that the possible values for the quality of a cut are ranked in ascending order as follows: Fair / Good / Very Good / Premium / Ideal**"
      ],
      "metadata": {
        "id": "2keeY8afC27a"
      }
    },
    {
      "cell_type": "code",
      "source": [
        "#A premium cut or better would be Premium or Ideal\n",
        "premiumcutorbetterCounter = 0\n",
        "#new list with cut\n",
        "cutList = df['cut'].tolist()\n",
        "for x in cutList:\n",
        "  if x == 'Premium' or x=='Ideal':\n",
        "#if premium or ideal add to counter\n",
        "    premiumcutorbetterCounter += 1\n",
        "#premium or better counter print\n",
        "print(premiumcutorbetterCounter)"
      ],
      "metadata": {
        "colab": {
          "base_uri": "https://localhost:8080/"
        },
        "id": "CaZspmArDsMe",
        "outputId": "a0e4346f-7948-41a9-f170-efb96ca848cf"
      },
      "execution_count": 18,
      "outputs": [
        {
          "output_type": "stream",
          "name": "stdout",
          "text": [
            "35342\n"
          ]
        }
      ]
    },
    {
      "cell_type": "markdown",
      "source": [
        "35342"
      ],
      "metadata": {
        "id": "iCX_L3ErEgkX"
      }
    },
    {
      "cell_type": "markdown",
      "source": [
        "5.**Which diamond has the highest price per carat? What is its value?**"
      ],
      "metadata": {
        "id": "RECM1-akEiLT"
      }
    },
    {
      "cell_type": "code",
      "source": [
        "#To get price by carat we divide price by carat\n",
        "pricepercaratList = []\n",
        "#convert price to a list\n",
        "priceList = df['price'].tolist()\n",
        "#counter to iterate through price\n",
        "counterforPrice = 0 \n",
        "#loop so we can go through caratlist and we iterate price dividing carat by price then appending/adding the value to our new pricepercaratList\n",
        "for x in caratList:\n",
        " pricepercaratList.append(priceList[counterforPrice]/x)\n",
        " counterforPrice+=1\n",
        "\n",
        "#print(pricepercaratList)\n",
        "#simple just getting max of list\n",
        "max_val = max(pricepercaratList)\n",
        "#getting index of our max\n",
        "idx_max = pricepercaratList.index(max_val)\n",
        "\n",
        "print(\"The highest price per carat is: \")\n",
        "print(max_val)\n",
        "print(\"The index is: \")\n",
        "print(idx_max)\n",
        "print(\"The diamond number is :\")\n",
        "print(idx_max+1)"
      ],
      "metadata": {
        "colab": {
          "base_uri": "https://localhost:8080/"
        },
        "id": "7FkcZH2TH09Y",
        "outputId": "6c407985-e901-4c77-9f05-e077b42ade48"
      },
      "execution_count": 19,
      "outputs": [
        {
          "output_type": "stream",
          "name": "stdout",
          "text": [
            "The highest price per carat is: \n",
            "17828.846153846152\n",
            "The index is: \n",
            "27635\n",
            "The diamond number is :\n",
            "27636\n"
          ]
        }
      ]
    },
    {
      "cell_type": "markdown",
      "source": [
        "The highest price per carat is: \n",
        "17828.846153846152\n",
        "The index is: \n",
        "27635\n",
        "The diamond number is :\n",
        "27636"
      ],
      "metadata": {
        "id": "a_9zvPStNoHA"
      }
    },
    {
      "cell_type": "markdown",
      "source": [
        "6.**Using both Matplolib and Seaborn, make boxplots of the diamond price for each distinct cut value and discuss any conclusions you can draw from the appearances of the boxplots.**"
      ],
      "metadata": {
        "id": "KFpLlXZcRImQ"
      }
    },
    {
      "cell_type": "code",
      "source": [
        "sns.boxplot(x=df['price'],y=df['cut'])"
      ],
      "metadata": {
        "colab": {
          "base_uri": "https://localhost:8080/",
          "height": 297
        },
        "id": "SoVAXPZmRYPo",
        "outputId": "2e5a9520-6e3a-42a7-a923-da2214cb625b"
      },
      "execution_count": 20,
      "outputs": [
        {
          "output_type": "execute_result",
          "data": {
            "text/plain": [
              "<matplotlib.axes._subplots.AxesSubplot at 0x7f05d2222810>"
            ]
          },
          "metadata": {},
          "execution_count": 20
        },
        {
          "output_type": "display_data",
          "data": {
            "text/plain": [
              "<Figure size 432x288 with 1 Axes>"
            ],
            "image/png": "[encoded data removed]"
          },
          "metadata": {
            "needs_background": "light"
          }
        }
      ]
    },
    {
      "cell_type": "markdown",
      "source": [
        "From the appearance of the boxplots, we can assume a couple of things:\n",
        "* Premium, Good, and Fair seem to have a median that is at the same price\n",
        "* Every cut except fair seems to have a similar lower quartile\n",
        "* Premium will make the most on an upper quartile battle\n"
      ],
      "metadata": {
        "id": "rzP3yNj3XJ_x"
      }
    },
    {
      "cell_type": "markdown",
      "source": [
        "7.**Using both Matplolib and Seaborn, make a scatter plot of price vs. carat. What can we say about the relationship between those two attributes?**"
      ],
      "metadata": {
        "id": "KXdgduEmYTHX"
      }
    },
    {
      "cell_type": "code",
      "source": [
        "sns.scatterplot(x=df['carat'],y=df['price'])"
      ],
      "metadata": {
        "colab": {
          "base_uri": "https://localhost:8080/",
          "height": 297
        },
        "id": "-mLfxBVNYb2V",
        "outputId": "e8c51ad7-83c0-4d62-d29f-e608766ac730"
      },
      "execution_count": 21,
      "outputs": [
        {
          "output_type": "execute_result",
          "data": {
            "text/plain": [
              "<matplotlib.axes._subplots.AxesSubplot at 0x7f05d18e8cd0>"
            ]
          },
          "metadata": {},
          "execution_count": 21
        },
        {
          "output_type": "display_data",
          "data": {
            "text/plain": [
              "<Figure size 432x288 with 1 Axes>"
            ],
            "image/png": "[encoded data removed]"
          },
          "metadata": {
            "needs_background": "light"
          }
        }
      ]
    },
    {
      "cell_type": "markdown",
      "source": [
        "Based on the scatterplot what we can say about their relationship is that it's a positive trend. (Moes left to right upwards) As well as many of the prices are between 1-2 carat. They have a positive relation as one goes up the other does as well. "
      ],
      "metadata": {
        "id": "VnOES_fjZw_J"
      }
    },
    {
      "cell_type": "markdown",
      "source": [
        "##Conclusion"
      ],
      "metadata": {
        "id": "x2vNLP6JcfEz"
      }
    },
    {
      "cell_type": "markdown",
      "source": [
        "In conclusion there were many things that I can take away from this quiz. I have developed a deeper understanding of diamonds. Through the scatterplot I learned that the relationship between carat and price is positively upwards, I learned that a premium cut has the highest upper quartile as well as premium, good and fair having a very close similar median. I became aware of the cooralation between carat, x , y and z. Finally learned that diamond cuts may be the most common based on our dataset. "
      ],
      "metadata": {
        "id": "56Nt7mhecklg"
      }
    },
    {
      "cell_type": "markdown",
      "source": [
        "##References"
      ],
      "metadata": {
        "id": "MdGmluY2d0Yb"
      }
    },
    {
      "cell_type": "markdown",
      "source": [
        "Learn what Carat means and what diamond carat measures: 4Cs of Diamond Quality by Gia. GIA 4Cs. (2019, December 9). Retrieved June 13, 2022, from https://4cs.gia.edu/en-us/diamond-carat-weight/ \n",
        "\n",
        "What is diamond clarity: The 4Cs of Diamond Quality by Gia. GIA 4Cs. (2019, December 9). Retrieved June 13, 2022, from https://4cs.gia.edu/en-us/diamond-clarity/ \n",
        "\n",
        "Learn what diamond cut actually means and all about diamond cut grades: 4Cs of Diamond Quality. GIA 4Cs. (2019, December 9). Retrieved June 13, 2022, from https://4cs.gia.edu/en-us/diamond-cut/ \n",
        "\n",
        "Ideal diamond depth and table by cut. The Diamond Pro. (2022, April 3). Retrieved June 13, 2022, from https://www.diamonds.pro/education/diamond-depth-and-table/ \n",
        "\n",
        "Diamond Color: Grade chart and buying tips | blue nile. (n.d.). Retrieved June 13, 2022, from https://www.bluenile.com/education/diamonds/color \n",
        "\n",
        "4Cs of Diamond Quality by Gia: Learn about diamond buying: What are the diamond 4cs. GIA 4Cs. (2021, October 6). Retrieved June 13, 2022, from https://4cs.gia.edu/en-us/4cs-diamond-quality/ "
      ],
      "metadata": {
        "id": "Pf-VX2uwd3OL"
      }
    }
  ]
}