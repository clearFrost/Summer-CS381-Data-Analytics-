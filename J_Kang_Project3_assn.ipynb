{
  "nbformat": 4,
  "nbformat_minor": 0,
  "metadata": {
    "colab": {
      "name": "J_Kang_Project3_assn.ipynb",
      "provenance": [],
      "collapsed_sections": []
    },
    "kernelspec": {
      "name": "python3",
      "display_name": "Python 3"
    },
    "language_info": {
      "name": "python"
    }
  },
  "cells": [
    {
      "cell_type": "markdown",
      "source": [
        "#Automobile Gas Mileage"
      ],
      "metadata": {
        "id": "VGqkigZlB0ZG"
      }
    },
    {
      "cell_type": "markdown",
      "source": [
        "**Automobile Data set** "
      ],
      "metadata": {
        "id": "fpeDsvkVTmzj"
      }
    },
    {
      "cell_type": "markdown",
      "source": [
        "##Data Loading"
      ],
      "metadata": {
        "id": "P6WYlg5nFjlg"
      }
    },
    {
      "cell_type": "markdown",
      "source": [
        "This dataset is composed of attributes related to automobiles. It contains 26 attributes and has 204 cars/automobiles."
      ],
      "metadata": {
        "id": "79c1o0JKUCu_"
      }
    },
    {
      "cell_type": "markdown",
      "source": [
        "The dataset features 26 Attributes these are :\n",
        "1. *Symboling*(-3, -2, -1, 0, 1, 2, 3)  - This is the risk factor associated with the price of a car. The less the value of the number the more safer it is.(https://archive.ics.uci.edu/ml/datasets/Automobile) \n",
        "2. *Normalized-Losses* (65-256)- Relative average loss of payment per insured car year. \n",
        "3. *Make* (alfa-romero, audi, bmw,chevrolet, dodge, honda,isuzu, jaguar, mazda, mercedes-benz, mercury,\n",
        "mitsubishi, nissan, peugot, plymouth, porsche, renault, saab, subaru, toyota, volkswagen, volvo)- Make refers to the brand of the car.https://archive.ics.uci.edu/ml/datasets/Automobile\n",
        "4. *Fuel* (diesel, gas) - this is the type of fuel the car uses. (https://driving-tests.org/beginner-drivers/types-and-grades-of-fuel/)\n",
        "5. *Aspiration* (std, turbo) - Type of combustion in the engine that affects efficiency and power.\n",
        "6. *num-of-doors*(four,two)- number of doors the car has.\n",
        "7. *body-style*(hardtop, wagon, sedan, hatchback, convertible) - type of style of the cars body.\n",
        "8. *drive-wheels*(4wd, fwd, rwd)- type of drive on the car, all four wheels, front wheels, or rear wheels.\n",
        "9. *engine-location*(front, rear)- where the engine is located\n",
        "10. *wheel-base*(86.6 120.9)- Distance between the centres of the front and rear wheels. (https://www.carwow.co.uk/guides/glossary/what-is-a-car-wheelbase-0282)\n",
        "11. *length*(141.1-208.1)- length of the car.\n",
        "12. *width*(60.3-72.3)- width of the car.\n",
        "13. *height*(47.8-59.8)- height of the car.\n",
        "14. *curb-weight*(1488-4066)-the weight of the car without any passengers or items. (https://www.newroads.ca/blog/curb-weight-vs-gross-vehicle-weight/)\n",
        "15. *engine-type*(dohc, dohcv, l, ohc, ohcf, ohcv, rotor)- type of the engine.(https://www.mechanicalbooster.com/2016/08/different-types-of-engine.html)\n",
        "16. *num-of-cylinders*(eight, five, four, six, three, twelve, two)- the number of cylinders in the car.\n",
        "17. *engine-size*(61-326) - the size of the engine.\n",
        "18. *fuel-system*(1bbl, 2bbl, 4bbl, idi, mfi, mpfi, spdi, spfi)-type of system where the components deliver fuel from the tank to the engine. (https://www.cars.com/auto-repair/glossary/fuel-system/) \n",
        "19. *bore* (2.54-3.94)- is the diameter of the cylinder in the engine. (https://www.roadandtrack.com/car-culture/a30443334/engine-stroke-vs-bore-explained/)\n",
        "20. *stroke* (2.07-4.17) - movement of piston.(https://www.military.com/off-duty/autos/auto-repair-the-four-stroke-power-cycle.html)\n",
        "21. *compression-ratio* (7-23) - transfer of energy from combustion to mechanical energy (https://rislone.com/blog/engine-oil/expert-overview-what-causes-engine-compression-loss-anyway/)\n",
        "22. *horsepower* (48-288) - power produced by an engine. (https://www.bryantmotors.com/car-buying-guide/basics-horsepower-torque.html)\n",
        "23. *peak-rpm* (4150-6600) - highest point of revolutions per minute, used to measure how fast a machine is operating at the time. (https://www.cars.com/articles/what-does-rpm-mean-in-cars-1420697442798/)\n",
        "24. *city-mpg*(13-49) - lowest mpg rating for a vehicle in the city. (https://www.kbb.com/what-is/highway-mpg/)\n",
        "25. *highway-mpg*(16-54) - average automobile will get while driving on an open stretch or road without stopping or starting. (https://www.caranddriver.com/research/a31873205/mpg-meaning/)\n",
        "26. *price*(5118-45400) - price of the automobile.\n",
        "\n"
      ],
      "metadata": {
        "id": "XCuNlU7GUPBi"
      }
    },
    {
      "cell_type": "markdown",
      "source": [
        "**Setup for Python**"
      ],
      "metadata": {
        "id": "b7rabQbMCBSd"
      }
    },
    {
      "cell_type": "code",
      "execution_count": 46,
      "metadata": {
        "id": "wIkHE_m2BnH8",
        "colab": {
          "base_uri": "https://localhost:8080/"
        },
        "outputId": "8e9f96df-737d-4c55-8f9f-733d0fab6b8e"
      },
      "outputs": [
        {
          "output_type": "stream",
          "name": "stdout",
          "text": [
            "     symboling  normalized-losses         make fuel-type aspiration  \\\n",
            "0            3                NaN  alfa-romero       gas        std   \n",
            "1            1                NaN  alfa-romero       gas        std   \n",
            "2            2              164.0         audi       gas        std   \n",
            "3            2              164.0         audi       gas        std   \n",
            "4            2                NaN         audi       gas        std   \n",
            "..         ...                ...          ...       ...        ...   \n",
            "199         -1               95.0        volvo       gas        std   \n",
            "200         -1               95.0        volvo       gas      turbo   \n",
            "201         -1               95.0        volvo       gas        std   \n",
            "202         -1               95.0        volvo    diesel      turbo   \n",
            "203         -1               95.0        volvo       gas      turbo   \n",
            "\n",
            "    num-of-doors   body-style drive-wheels engine-location  wheel-base  ...  \\\n",
            "0            two  convertible          rwd           front        88.6  ...   \n",
            "1            two    hatchback          rwd           front        94.5  ...   \n",
            "2           four        sedan          fwd           front        99.8  ...   \n",
            "3           four        sedan          4wd           front        99.4  ...   \n",
            "4            two        sedan          fwd           front        99.8  ...   \n",
            "..           ...          ...          ...             ...         ...  ...   \n",
            "199         four        sedan          rwd           front       109.1  ...   \n",
            "200         four        sedan          rwd           front       109.1  ...   \n",
            "201         four        sedan          rwd           front       109.1  ...   \n",
            "202         four        sedan          rwd           front       109.1  ...   \n",
            "203         four        sedan          rwd           front       109.1  ...   \n",
            "\n",
            "     engine-size  fuel-system  bore  stroke compression-ratio horsepower  \\\n",
            "0            130         mpfi  3.47    2.68               9.0      111.0   \n",
            "1            152         mpfi  2.68    3.47               9.0      154.0   \n",
            "2            109         mpfi  3.19    3.40              10.0      102.0   \n",
            "3            136         mpfi  3.19    3.40               8.0      115.0   \n",
            "4            136         mpfi  3.19    3.40               8.5      110.0   \n",
            "..           ...          ...   ...     ...               ...        ...   \n",
            "199          141         mpfi  3.78    3.15               9.5      114.0   \n",
            "200          141         mpfi  3.78    3.15               8.7      160.0   \n",
            "201          173         mpfi  3.58    2.87               8.8      134.0   \n",
            "202          145          idi  3.01    3.40              23.0      106.0   \n",
            "203          141         mpfi  3.78    3.15               9.5      114.0   \n",
            "\n",
            "     peak-rpm city-mpg  highway-mpg    price  \n",
            "0      5000.0       21           27  16500.0  \n",
            "1      5000.0       19           26  16500.0  \n",
            "2      5500.0       24           30  13950.0  \n",
            "3      5500.0       18           22  17450.0  \n",
            "4      5500.0       19           25  15250.0  \n",
            "..        ...      ...          ...      ...  \n",
            "199    5400.0       23           28  16845.0  \n",
            "200    5300.0       19           25  19045.0  \n",
            "201    5500.0       18           23  21485.0  \n",
            "202    4800.0       26           27  22470.0  \n",
            "203    5400.0       19           25  22625.0  \n",
            "\n",
            "[204 rows x 26 columns]\n"
          ]
        }
      ],
      "source": [
        "import numpy as np\n",
        "import pandas as pd\n",
        "import matplotlib.pyplot as plt\n",
        "import missingno as msno\n",
        "import seaborn as sns\n",
        "\n",
        "#reading the data from my github\n",
        "df = pd.read_csv(\"https://raw.githubusercontent.com/Skyfallup/Summer-CSCI381-11/main/imports-85.data\", na_values='?')\n",
        "#naming the columns of the data\n",
        "df.columns=['symboling','normalized-losses','make','fuel-type','aspiration','num-of-doors','body-style','drive-wheels','engine-location','wheel-base','length','width','height','curb-weight','engine-type','num-of-cylinders','engine-size','fuel-system','bore','stroke','compression-ratio','horsepower','peak-rpm','city-mpg','highway-mpg','price']\n",
        "#print just to see if it was done\n",
        "print(df)\n"
      ]
    },
    {
      "cell_type": "code",
      "source": [
        "#done to see how many unique values are in each column/attribute\n",
        "df.nunique()"
      ],
      "metadata": {
        "colab": {
          "base_uri": "https://localhost:8080/"
        },
        "id": "Dji6dTaTpwIZ",
        "outputId": "2d0fbea8-876c-457a-8b28-286bd6654d05"
      },
      "execution_count": 47,
      "outputs": [
        {
          "output_type": "execute_result",
          "data": {
            "text/plain": [
              "symboling              6\n",
              "normalized-losses     51\n",
              "make                  22\n",
              "fuel-type              2\n",
              "aspiration             2\n",
              "num-of-doors           2\n",
              "body-style             5\n",
              "drive-wheels           3\n",
              "engine-location        2\n",
              "wheel-base            53\n",
              "length                75\n",
              "width                 44\n",
              "height                49\n",
              "curb-weight          171\n",
              "engine-type            7\n",
              "num-of-cylinders       7\n",
              "engine-size           44\n",
              "fuel-system            8\n",
              "bore                  38\n",
              "stroke                36\n",
              "compression-ratio     32\n",
              "horsepower            59\n",
              "peak-rpm              23\n",
              "city-mpg              29\n",
              "highway-mpg           30\n",
              "price                185\n",
              "dtype: int64"
            ]
          },
          "metadata": {},
          "execution_count": 47
        }
      ]
    },
    {
      "cell_type": "code",
      "source": [
        "#done to see the datatype of each attribute\n",
        "df.dtypes"
      ],
      "metadata": {
        "colab": {
          "base_uri": "https://localhost:8080/"
        },
        "id": "__KX2xZCp-bG",
        "outputId": "ff44bee2-785e-4352-d5d0-07fff78cb9cb"
      },
      "execution_count": 48,
      "outputs": [
        {
          "output_type": "execute_result",
          "data": {
            "text/plain": [
              "symboling              int64\n",
              "normalized-losses    float64\n",
              "make                  object\n",
              "fuel-type             object\n",
              "aspiration            object\n",
              "num-of-doors          object\n",
              "body-style            object\n",
              "drive-wheels          object\n",
              "engine-location       object\n",
              "wheel-base           float64\n",
              "length               float64\n",
              "width                float64\n",
              "height               float64\n",
              "curb-weight            int64\n",
              "engine-type           object\n",
              "num-of-cylinders      object\n",
              "engine-size            int64\n",
              "fuel-system           object\n",
              "bore                 float64\n",
              "stroke               float64\n",
              "compression-ratio    float64\n",
              "horsepower           float64\n",
              "peak-rpm             float64\n",
              "city-mpg               int64\n",
              "highway-mpg            int64\n",
              "price                float64\n",
              "dtype: object"
            ]
          },
          "metadata": {},
          "execution_count": 48
        }
      ]
    },
    {
      "cell_type": "markdown",
      "source": [
        "We can notice here that some things that should be numeric arent, such as the stroke, bore,normalized-losses, horsepower, and peak-rpm given that the attributes have numbers they should be float or int so we must change it."
      ],
      "metadata": {
        "id": "MEZHcLSFuAXZ"
      }
    },
    {
      "cell_type": "code",
      "source": [
        "df['bore']=pd.to_numeric(df['bore'], errors= 'coerce')\n",
        "df['stroke']=pd.to_numeric(df['stroke'], errors= 'coerce')\n",
        "df['horsepower']=pd.to_numeric(df['horsepower'], errors= 'coerce')\n",
        "df['peak-rpm']=pd.to_numeric(df['peak-rpm'], errors= 'coerce')\n",
        "df['price']=pd.to_numeric(df['price'], errors = 'coerce')\n",
        "df['normalized-losses']=pd.to_numeric(df['normalized-losses'],errors = 'coerce')"
      ],
      "metadata": {
        "id": "QvyPuHEGt_QQ"
      },
      "execution_count": 49,
      "outputs": []
    },
    {
      "cell_type": "code",
      "source": [
        "#checking for any nulls in the data\n",
        "df.isnull().sum()"
      ],
      "metadata": {
        "colab": {
          "base_uri": "https://localhost:8080/"
        },
        "id": "I4AxpomXqF6w",
        "outputId": "443a7bb9-0754-4047-bce2-e60b591f0f3f"
      },
      "execution_count": 50,
      "outputs": [
        {
          "output_type": "execute_result",
          "data": {
            "text/plain": [
              "symboling             0\n",
              "normalized-losses    40\n",
              "make                  0\n",
              "fuel-type             0\n",
              "aspiration            0\n",
              "num-of-doors          2\n",
              "body-style            0\n",
              "drive-wheels          0\n",
              "engine-location       0\n",
              "wheel-base            0\n",
              "length                0\n",
              "width                 0\n",
              "height                0\n",
              "curb-weight           0\n",
              "engine-type           0\n",
              "num-of-cylinders      0\n",
              "engine-size           0\n",
              "fuel-system           0\n",
              "bore                  4\n",
              "stroke                4\n",
              "compression-ratio     0\n",
              "horsepower            2\n",
              "peak-rpm              2\n",
              "city-mpg              0\n",
              "highway-mpg           0\n",
              "price                 4\n",
              "dtype: int64"
            ]
          },
          "metadata": {},
          "execution_count": 50
        }
      ]
    },
    {
      "cell_type": "code",
      "source": [
        "#basically shows the above 2 informations with extras \n",
        "df.info()"
      ],
      "metadata": {
        "colab": {
          "base_uri": "https://localhost:8080/"
        },
        "id": "gU-cUr30rGpz",
        "outputId": "9536a8b5-c071-48af-8d43-996ecca4e603"
      },
      "execution_count": 51,
      "outputs": [
        {
          "output_type": "stream",
          "name": "stdout",
          "text": [
            "<class 'pandas.core.frame.DataFrame'>\n",
            "RangeIndex: 204 entries, 0 to 203\n",
            "Data columns (total 26 columns):\n",
            " #   Column             Non-Null Count  Dtype  \n",
            "---  ------             --------------  -----  \n",
            " 0   symboling          204 non-null    int64  \n",
            " 1   normalized-losses  164 non-null    float64\n",
            " 2   make               204 non-null    object \n",
            " 3   fuel-type          204 non-null    object \n",
            " 4   aspiration         204 non-null    object \n",
            " 5   num-of-doors       202 non-null    object \n",
            " 6   body-style         204 non-null    object \n",
            " 7   drive-wheels       204 non-null    object \n",
            " 8   engine-location    204 non-null    object \n",
            " 9   wheel-base         204 non-null    float64\n",
            " 10  length             204 non-null    float64\n",
            " 11  width              204 non-null    float64\n",
            " 12  height             204 non-null    float64\n",
            " 13  curb-weight        204 non-null    int64  \n",
            " 14  engine-type        204 non-null    object \n",
            " 15  num-of-cylinders   204 non-null    object \n",
            " 16  engine-size        204 non-null    int64  \n",
            " 17  fuel-system        204 non-null    object \n",
            " 18  bore               200 non-null    float64\n",
            " 19  stroke             200 non-null    float64\n",
            " 20  compression-ratio  204 non-null    float64\n",
            " 21  horsepower         202 non-null    float64\n",
            " 22  peak-rpm           202 non-null    float64\n",
            " 23  city-mpg           204 non-null    int64  \n",
            " 24  highway-mpg        204 non-null    int64  \n",
            " 25  price              200 non-null    float64\n",
            "dtypes: float64(11), int64(5), object(10)\n",
            "memory usage: 41.6+ KB\n"
          ]
        }
      ]
    },
    {
      "cell_type": "markdown",
      "source": [
        "We have now converted the attributes that should be numeric and now must deal with the nulls. In this case categorical data will be given with mean and then numerical with median when it comes to the null values. We also chose to remove the rows with NaN in num-of-doors because even without those we end up with 99% of our data still remaining."
      ],
      "metadata": {
        "id": "nEbbQ5tsx6Kk"
      }
    },
    {
      "cell_type": "code",
      "source": [
        "nan_values = df[df.isnull().any(axis=1)]\n",
        "print (nan_values)"
      ],
      "metadata": {
        "colab": {
          "base_uri": "https://localhost:8080/"
        },
        "id": "WWH6o1_Y7oim",
        "outputId": "9dc0a729-db1e-4cc0-ca47-3c8cbb9eb8c0"
      },
      "execution_count": 52,
      "outputs": [
        {
          "output_type": "stream",
          "name": "stdout",
          "text": [
            "     symboling  normalized-losses           make fuel-type aspiration  \\\n",
            "0            3                NaN    alfa-romero       gas        std   \n",
            "1            1                NaN    alfa-romero       gas        std   \n",
            "4            2                NaN           audi       gas        std   \n",
            "6            1                NaN           audi       gas        std   \n",
            "8            0                NaN           audi       gas      turbo   \n",
            "13           1                NaN            bmw       gas        std   \n",
            "14           0                NaN            bmw       gas        std   \n",
            "15           0                NaN            bmw       gas        std   \n",
            "16           0                NaN            bmw       gas        std   \n",
            "26           1              148.0          dodge       gas      turbo   \n",
            "42           0                NaN          isuzu       gas        std   \n",
            "43           1                NaN          isuzu       gas        std   \n",
            "44           0                NaN          isuzu       gas        std   \n",
            "45           2                NaN          isuzu       gas        std   \n",
            "47           0                NaN         jaguar       gas        std   \n",
            "48           0                NaN         jaguar       gas        std   \n",
            "54           3              150.0          mazda       gas        std   \n",
            "55           3              150.0          mazda       gas        std   \n",
            "56           3              150.0          mazda       gas        std   \n",
            "57           3              150.0          mazda       gas        std   \n",
            "62           0                NaN          mazda    diesel        std   \n",
            "65           0                NaN          mazda    diesel        std   \n",
            "70          -1                NaN  mercedes-benz       gas        std   \n",
            "72           0                NaN  mercedes-benz       gas        std   \n",
            "73           1                NaN  mercedes-benz       gas        std   \n",
            "74           1                NaN        mercury       gas      turbo   \n",
            "81           3                NaN     mitsubishi       gas      turbo   \n",
            "82           3                NaN     mitsubishi       gas      turbo   \n",
            "83           3                NaN     mitsubishi       gas      turbo   \n",
            "108          0                NaN         peugot       gas        std   \n",
            "109          0                NaN         peugot    diesel      turbo   \n",
            "112          0                NaN         peugot       gas        std   \n",
            "113          0                NaN         peugot    diesel      turbo   \n",
            "123          3                NaN       plymouth       gas      turbo   \n",
            "125          3                NaN        porsche       gas        std   \n",
            "126          3                NaN        porsche       gas        std   \n",
            "127          3                NaN        porsche       gas        std   \n",
            "128          1                NaN        porsche       gas        std   \n",
            "129          0                NaN        renault       gas        std   \n",
            "130          2                NaN        renault       gas        std   \n",
            "180         -1                NaN         toyota       gas        std   \n",
            "188          3                NaN     volkswagen       gas        std   \n",
            "190          0                NaN     volkswagen       gas        std   \n",
            "191          0                NaN     volkswagen    diesel      turbo   \n",
            "192          0                NaN     volkswagen       gas        std   \n",
            "\n",
            "    num-of-doors   body-style drive-wheels engine-location  wheel-base  ...  \\\n",
            "0            two  convertible          rwd           front        88.6  ...   \n",
            "1            two    hatchback          rwd           front        94.5  ...   \n",
            "4            two        sedan          fwd           front        99.8  ...   \n",
            "6           four        wagon          fwd           front       105.8  ...   \n",
            "8            two    hatchback          4wd           front        99.5  ...   \n",
            "13          four        sedan          rwd           front       103.5  ...   \n",
            "14          four        sedan          rwd           front       103.5  ...   \n",
            "15           two        sedan          rwd           front       103.5  ...   \n",
            "16          four        sedan          rwd           front       110.0  ...   \n",
            "26           NaN        sedan          fwd           front        93.7  ...   \n",
            "42          four        sedan          rwd           front        94.3  ...   \n",
            "43           two        sedan          fwd           front        94.5  ...   \n",
            "44          four        sedan          fwd           front        94.5  ...   \n",
            "45           two    hatchback          rwd           front        96.0  ...   \n",
            "47          four        sedan          rwd           front       113.0  ...   \n",
            "48           two        sedan          rwd           front       102.0  ...   \n",
            "54           two    hatchback          rwd           front        95.3  ...   \n",
            "55           two    hatchback          rwd           front        95.3  ...   \n",
            "56           two    hatchback          rwd           front        95.3  ...   \n",
            "57           two    hatchback          rwd           front        95.3  ...   \n",
            "62           NaN        sedan          fwd           front        98.8  ...   \n",
            "65          four        sedan          rwd           front       104.9  ...   \n",
            "70          four        sedan          rwd           front       115.6  ...   \n",
            "72          four        sedan          rwd           front       120.9  ...   \n",
            "73           two      hardtop          rwd           front       112.0  ...   \n",
            "74           two    hatchback          rwd           front       102.7  ...   \n",
            "81           two    hatchback          fwd           front        95.9  ...   \n",
            "82           two    hatchback          fwd           front        95.9  ...   \n",
            "83           two    hatchback          fwd           front        95.9  ...   \n",
            "108         four        wagon          rwd           front       114.2  ...   \n",
            "109         four        wagon          rwd           front       114.2  ...   \n",
            "112         four        wagon          rwd           front       114.2  ...   \n",
            "113         four        wagon          rwd           front       114.2  ...   \n",
            "123          two    hatchback          rwd           front        95.9  ...   \n",
            "125          two      hardtop          rwd            rear        89.5  ...   \n",
            "126          two      hardtop          rwd            rear        89.5  ...   \n",
            "127          two  convertible          rwd            rear        89.5  ...   \n",
            "128          two    hatchback          rwd           front        98.4  ...   \n",
            "129         four        wagon          fwd           front        96.1  ...   \n",
            "130          two    hatchback          fwd           front        96.1  ...   \n",
            "180         four        wagon          rwd           front       104.5  ...   \n",
            "188          two  convertible          fwd           front        94.5  ...   \n",
            "190         four        sedan          fwd           front       100.4  ...   \n",
            "191         four        sedan          fwd           front       100.4  ...   \n",
            "192         four        wagon          fwd           front       100.4  ...   \n",
            "\n",
            "     engine-size  fuel-system  bore  stroke compression-ratio horsepower  \\\n",
            "0            130         mpfi  3.47    2.68               9.0      111.0   \n",
            "1            152         mpfi  2.68    3.47               9.0      154.0   \n",
            "4            136         mpfi  3.19    3.40               8.5      110.0   \n",
            "6            136         mpfi  3.19    3.40               8.5      110.0   \n",
            "8            131         mpfi  3.13    3.40               7.0      160.0   \n",
            "13           164         mpfi  3.31    3.19               9.0      121.0   \n",
            "14           209         mpfi  3.62    3.39               8.0      182.0   \n",
            "15           209         mpfi  3.62    3.39               8.0      182.0   \n",
            "16           209         mpfi  3.62    3.39               8.0      182.0   \n",
            "26            98         mpfi  3.03    3.39               7.6      102.0   \n",
            "42           111         2bbl  3.31    3.23               8.5       78.0   \n",
            "43            90         2bbl  3.03    3.11               9.6       70.0   \n",
            "44            90         2bbl  3.03    3.11               9.6       70.0   \n",
            "45           119         spfi  3.43    3.23               9.2       90.0   \n",
            "47           258         mpfi  3.63    4.17               8.1      176.0   \n",
            "48           326         mpfi  3.54    2.76              11.5      262.0   \n",
            "54            70         4bbl   NaN     NaN               9.4      101.0   \n",
            "55            70         4bbl   NaN     NaN               9.4      101.0   \n",
            "56            70         4bbl   NaN     NaN               9.4      101.0   \n",
            "57            80         mpfi   NaN     NaN               9.4      135.0   \n",
            "62           122          idi  3.39    3.39              22.7       64.0   \n",
            "65           134          idi  3.43    3.64              22.0       72.0   \n",
            "70           234         mpfi  3.46    3.10               8.3      155.0   \n",
            "72           308         mpfi  3.80    3.35               8.0      184.0   \n",
            "73           304         mpfi  3.80    3.35               8.0      184.0   \n",
            "74           140         mpfi  3.78    3.12               8.0      175.0   \n",
            "81           156         spdi  3.58    3.86               7.0      145.0   \n",
            "82           156         spdi  3.59    3.86               7.0      145.0   \n",
            "83           156         spdi  3.59    3.86               7.0      145.0   \n",
            "108          120         mpfi  3.46    3.19               8.4       97.0   \n",
            "109          152          idi  3.70    3.52              21.0       95.0   \n",
            "112          120         mpfi  3.46    2.19               8.4       95.0   \n",
            "113          152          idi  3.70    3.52              21.0       95.0   \n",
            "123          156         spdi  3.59    3.86               7.0      145.0   \n",
            "125          194         mpfi  3.74    2.90               9.5      207.0   \n",
            "126          194         mpfi  3.74    2.90               9.5      207.0   \n",
            "127          194         mpfi  3.74    2.90               9.5      207.0   \n",
            "128          203         mpfi  3.94    3.11              10.0      288.0   \n",
            "129          132         mpfi  3.46    3.90               8.7        NaN   \n",
            "130          132         mpfi  3.46    3.90               8.7        NaN   \n",
            "180          161         mpfi  3.27    3.35               9.2      156.0   \n",
            "188          109         mpfi  3.19    3.40               8.5       90.0   \n",
            "190          136         mpfi  3.19    3.40               8.5      110.0   \n",
            "191           97          idi  3.01    3.40              23.0       68.0   \n",
            "192          109         mpfi  3.19    3.40               9.0       88.0   \n",
            "\n",
            "     peak-rpm city-mpg  highway-mpg    price  \n",
            "0      5000.0       21           27  16500.0  \n",
            "1      5000.0       19           26  16500.0  \n",
            "4      5500.0       19           25  15250.0  \n",
            "6      5500.0       19           25  18920.0  \n",
            "8      5500.0       16           22      NaN  \n",
            "13     4250.0       20           25  24565.0  \n",
            "14     5400.0       16           22  30760.0  \n",
            "15     5400.0       16           22  41315.0  \n",
            "16     5400.0       15           20  36880.0  \n",
            "26     5500.0       24           30   8558.0  \n",
            "42     4800.0       24           29   6785.0  \n",
            "43     5400.0       38           43      NaN  \n",
            "44     5400.0       38           43      NaN  \n",
            "45     5000.0       24           29  11048.0  \n",
            "47     4750.0       15           19  35550.0  \n",
            "48     5000.0       13           17  36000.0  \n",
            "54     6000.0       17           23  10945.0  \n",
            "55     6000.0       17           23  11845.0  \n",
            "56     6000.0       17           23  13645.0  \n",
            "57     6000.0       16           23  15645.0  \n",
            "62     4650.0       36           42  10795.0  \n",
            "65     4200.0       31           39  18344.0  \n",
            "70     4750.0       16           18  34184.0  \n",
            "72     4500.0       14           16  40960.0  \n",
            "73     4500.0       14           16  45400.0  \n",
            "74     5000.0       19           24  16503.0  \n",
            "81     5000.0       19           24  12629.0  \n",
            "82     5000.0       19           24  14869.0  \n",
            "83     5000.0       19           24  14489.0  \n",
            "108    5000.0       19           24  12440.0  \n",
            "109    4150.0       25           25  13860.0  \n",
            "112    5000.0       19           24  16695.0  \n",
            "113    4150.0       25           25  17075.0  \n",
            "123    5000.0       19           24  12764.0  \n",
            "125    5900.0       17           25  32528.0  \n",
            "126    5900.0       17           25  34028.0  \n",
            "127    5900.0       17           25  37028.0  \n",
            "128    5750.0       17           28      NaN  \n",
            "129       NaN       23           31   9295.0  \n",
            "130       NaN       23           31   9895.0  \n",
            "180    5200.0       19           24  15750.0  \n",
            "188    5500.0       24           29  11595.0  \n",
            "190    5500.0       19           24  13295.0  \n",
            "191    4500.0       33           38  13845.0  \n",
            "192    5500.0       25           31  12290.0  \n",
            "\n",
            "[45 rows x 26 columns]\n"
          ]
        }
      ]
    },
    {
      "cell_type": "code",
      "source": [
        "df['normalized-losses'].fillna(df['normalized-losses'].median(), inplace=True)\n",
        "df['bore'].fillna(df['bore'].median(), inplace=True)\n",
        "df['stroke'].fillna(df['stroke'].median(), inplace=True)\n",
        "df['horsepower'].fillna(df['horsepower'].median(), inplace=True)\n",
        "df['peak-rpm'].fillna(df['peak-rpm'].median(), inplace=True)\n",
        "df['price'].fillna(df['price'].median(), inplace=True)\n",
        "df.dropna(subset=['num-of-doors'], axis=0,inplace=True)\n",
        "percentageofData = len(df.index) / 204\n",
        "print(\"The percent left of our data is :\")\n",
        "print(percentageofData)"
      ],
      "metadata": {
        "colab": {
          "base_uri": "https://localhost:8080/"
        },
        "id": "p9krToKgBG51",
        "outputId": "91e1ee3a-f7ec-444f-aa03-2903658aaf2a"
      },
      "execution_count": 53,
      "outputs": [
        {
          "output_type": "stream",
          "name": "stdout",
          "text": [
            "The percent left of our data is :\n",
            "0.9901960784313726\n"
          ]
        }
      ]
    },
    {
      "cell_type": "markdown",
      "source": [
        "Above we are filling the Null values with the median as they are numerical. And dropping the NaN values for num-of-doors as only two are NaN and after dropping those two we still keep 99% of our dataset."
      ],
      "metadata": {
        "id": "EEo_2U2TEZdf"
      }
    },
    {
      "cell_type": "code",
      "source": [
        "nan_values = df[df.isnull().any(axis=1)]\n",
        "print (nan_values)"
      ],
      "metadata": {
        "colab": {
          "base_uri": "https://localhost:8080/"
        },
        "id": "bcqJZqdLDyb1",
        "outputId": "3b3fb357-7b76-40dd-e120-2ef24bc2670a"
      },
      "execution_count": 54,
      "outputs": [
        {
          "output_type": "stream",
          "name": "stdout",
          "text": [
            "Empty DataFrame\n",
            "Columns: [symboling, normalized-losses, make, fuel-type, aspiration, num-of-doors, body-style, drive-wheels, engine-location, wheel-base, length, width, height, curb-weight, engine-type, num-of-cylinders, engine-size, fuel-system, bore, stroke, compression-ratio, horsepower, peak-rpm, city-mpg, highway-mpg, price]\n",
            "Index: []\n",
            "\n",
            "[0 rows x 26 columns]\n"
          ]
        }
      ]
    },
    {
      "cell_type": "markdown",
      "source": [
        "As we can see there are no longer any null values in our dataframe."
      ],
      "metadata": {
        "id": "sddBYqSfFT8i"
      }
    },
    {
      "cell_type": "markdown",
      "source": [
        "##Exploratory Data Analysis"
      ],
      "metadata": {
        "id": "oMMiRN3Not6U"
      }
    },
    {
      "cell_type": "code",
      "source": [
        "df.describe()"
      ],
      "metadata": {
        "colab": {
          "base_uri": "https://localhost:8080/",
          "height": 300
        },
        "id": "nVymCtyF3jaj",
        "outputId": "f7fc60f7-a273-4451-e5e4-b6368d456323"
      },
      "execution_count": 55,
      "outputs": [
        {
          "output_type": "execute_result",
          "data": {
            "text/plain": [
              "        symboling  normalized-losses  wheel-base      length       width  \\\n",
              "count  202.000000         202.000000  202.000000  202.000000  202.000000   \n",
              "mean     0.826733         120.519802   98.831683  174.139604   65.924257   \n",
              "std      1.243762          31.978259    6.013061   12.364039    2.151791   \n",
              "min     -2.000000          65.000000   86.600000  141.100000   60.300000   \n",
              "25%      0.000000         101.000000   94.500000  166.425000   64.125000   \n",
              "50%      1.000000         115.000000   97.000000  173.200000   65.500000   \n",
              "75%      2.000000         137.000000  102.400000  183.400000   66.900000   \n",
              "max      3.000000         256.000000  120.900000  208.100000   72.300000   \n",
              "\n",
              "           height  curb-weight  engine-size        bore      stroke  \\\n",
              "count  202.000000   202.000000   202.000000  202.000000  202.000000   \n",
              "mean    53.755941  2557.965347   127.059406    3.329851    3.257624   \n",
              "std      2.423638   523.854860    41.900456    0.271838    0.313053   \n",
              "min     47.800000  1488.000000    61.000000    2.540000    2.070000   \n",
              "25%     52.000000  2145.000000    97.000000    3.150000    3.110000   \n",
              "50%     54.100000  2414.000000   119.500000    3.310000    3.290000   \n",
              "75%     55.500000  2947.750000   144.000000    3.587500    3.410000   \n",
              "max     59.800000  4066.000000   326.000000    3.940000    4.170000   \n",
              "\n",
              "       compression-ratio  horsepower     peak-rpm    city-mpg  highway-mpg  \\\n",
              "count         202.000000  202.000000   202.000000  202.000000   202.000000   \n",
              "mean           10.098614  104.341584  5127.227723   25.193069    30.717822   \n",
              "std             3.897109   39.719128   478.597908    6.539383     6.886758   \n",
              "min             7.000000   48.000000  4150.000000   13.000000    16.000000   \n",
              "25%             8.600000   70.000000  4800.000000   19.000000    25.000000   \n",
              "50%             9.000000   95.000000  5200.000000   24.000000    30.000000   \n",
              "75%             9.400000  116.000000  5500.000000   30.000000    34.000000   \n",
              "max            23.000000  288.000000  6600.000000   49.000000    54.000000   \n",
              "\n",
              "              price  \n",
              "count    202.000000  \n",
              "mean   13182.500000  \n",
              "std     7929.427974  \n",
              "min     5118.000000  \n",
              "25%     7778.250000  \n",
              "50%    10270.000000  \n",
              "75%    16500.000000  \n",
              "max    45400.000000  "
            ],
            "text/html": [
              "\n",
              "  <div id=\"df-c1b48a7d-7fea-4224-9000-ea5cb2ea12a0\">\n",
              "    <div class=\"colab-df-container\">\n",
              "      <div>\n",
              "<style scoped>\n",
              "    .dataframe tbody tr th:only-of-type {\n",
              "        vertical-align: middle;\n",
              "    }\n",
              "\n",
              "    .dataframe tbody tr th {\n",
              "        vertical-align: top;\n",
              "    }\n",
              "\n",
              "    .dataframe thead th {\n",
              "        text-align: right;\n",
              "    }\n",
              "</style>\n",
              "<table border=\"1\" class=\"dataframe\">\n",
              "  <thead>\n",
              "    <tr style=\"text-align: right;\">\n",
              "      <th></th>\n",
              "      <th>symboling</th>\n",
              "      <th>normalized-losses</th>\n",
              "      <th>wheel-base</th>\n",
              "      <th>length</th>\n",
              "      <th>width</th>\n",
              "      <th>height</th>\n",
              "      <th>curb-weight</th>\n",
              "      <th>engine-size</th>\n",
              "      <th>bore</th>\n",
              "      <th>stroke</th>\n",
              "      <th>compression-ratio</th>\n",
              "      <th>horsepower</th>\n",
              "      <th>peak-rpm</th>\n",
              "      <th>city-mpg</th>\n",
              "      <th>highway-mpg</th>\n",
              "      <th>price</th>\n",
              "    </tr>\n",
              "  </thead>\n",
              "  <tbody>\n",
              "    <tr>\n",
              "      <th>count</th>\n",
              "      <td>202.000000</td>\n",
              "      <td>202.000000</td>\n",
              "      <td>202.000000</td>\n",
              "      <td>202.000000</td>\n",
              "      <td>202.000000</td>\n",
              "      <td>202.000000</td>\n",
              "      <td>202.000000</td>\n",
              "      <td>202.000000</td>\n",
              "      <td>202.000000</td>\n",
              "      <td>202.000000</td>\n",
              "      <td>202.000000</td>\n",
              "      <td>202.000000</td>\n",
              "      <td>202.000000</td>\n",
              "      <td>202.000000</td>\n",
              "      <td>202.000000</td>\n",
              "      <td>202.000000</td>\n",
              "    </tr>\n",
              "    <tr>\n",
              "      <th>mean</th>\n",
              "      <td>0.826733</td>\n",
              "      <td>120.519802</td>\n",
              "      <td>98.831683</td>\n",
              "      <td>174.139604</td>\n",
              "      <td>65.924257</td>\n",
              "      <td>53.755941</td>\n",
              "      <td>2557.965347</td>\n",
              "      <td>127.059406</td>\n",
              "      <td>3.329851</td>\n",
              "      <td>3.257624</td>\n",
              "      <td>10.098614</td>\n",
              "      <td>104.341584</td>\n",
              "      <td>5127.227723</td>\n",
              "      <td>25.193069</td>\n",
              "      <td>30.717822</td>\n",
              "      <td>13182.500000</td>\n",
              "    </tr>\n",
              "    <tr>\n",
              "      <th>std</th>\n",
              "      <td>1.243762</td>\n",
              "      <td>31.978259</td>\n",
              "      <td>6.013061</td>\n",
              "      <td>12.364039</td>\n",
              "      <td>2.151791</td>\n",
              "      <td>2.423638</td>\n",
              "      <td>523.854860</td>\n",
              "      <td>41.900456</td>\n",
              "      <td>0.271838</td>\n",
              "      <td>0.313053</td>\n",
              "      <td>3.897109</td>\n",
              "      <td>39.719128</td>\n",
              "      <td>478.597908</td>\n",
              "      <td>6.539383</td>\n",
              "      <td>6.886758</td>\n",
              "      <td>7929.427974</td>\n",
              "    </tr>\n",
              "    <tr>\n",
              "      <th>min</th>\n",
              "      <td>-2.000000</td>\n",
              "      <td>65.000000</td>\n",
              "      <td>86.600000</td>\n",
              "      <td>141.100000</td>\n",
              "      <td>60.300000</td>\n",
              "      <td>47.800000</td>\n",
              "      <td>1488.000000</td>\n",
              "      <td>61.000000</td>\n",
              "      <td>2.540000</td>\n",
              "      <td>2.070000</td>\n",
              "      <td>7.000000</td>\n",
              "      <td>48.000000</td>\n",
              "      <td>4150.000000</td>\n",
              "      <td>13.000000</td>\n",
              "      <td>16.000000</td>\n",
              "      <td>5118.000000</td>\n",
              "    </tr>\n",
              "    <tr>\n",
              "      <th>25%</th>\n",
              "      <td>0.000000</td>\n",
              "      <td>101.000000</td>\n",
              "      <td>94.500000</td>\n",
              "      <td>166.425000</td>\n",
              "      <td>64.125000</td>\n",
              "      <td>52.000000</td>\n",
              "      <td>2145.000000</td>\n",
              "      <td>97.000000</td>\n",
              "      <td>3.150000</td>\n",
              "      <td>3.110000</td>\n",
              "      <td>8.600000</td>\n",
              "      <td>70.000000</td>\n",
              "      <td>4800.000000</td>\n",
              "      <td>19.000000</td>\n",
              "      <td>25.000000</td>\n",
              "      <td>7778.250000</td>\n",
              "    </tr>\n",
              "    <tr>\n",
              "      <th>50%</th>\n",
              "      <td>1.000000</td>\n",
              "      <td>115.000000</td>\n",
              "      <td>97.000000</td>\n",
              "      <td>173.200000</td>\n",
              "      <td>65.500000</td>\n",
              "      <td>54.100000</td>\n",
              "      <td>2414.000000</td>\n",
              "      <td>119.500000</td>\n",
              "      <td>3.310000</td>\n",
              "      <td>3.290000</td>\n",
              "      <td>9.000000</td>\n",
              "      <td>95.000000</td>\n",
              "      <td>5200.000000</td>\n",
              "      <td>24.000000</td>\n",
              "      <td>30.000000</td>\n",
              "      <td>10270.000000</td>\n",
              "    </tr>\n",
              "    <tr>\n",
              "      <th>75%</th>\n",
              "      <td>2.000000</td>\n",
              "      <td>137.000000</td>\n",
              "      <td>102.400000</td>\n",
              "      <td>183.400000</td>\n",
              "      <td>66.900000</td>\n",
              "      <td>55.500000</td>\n",
              "      <td>2947.750000</td>\n",
              "      <td>144.000000</td>\n",
              "      <td>3.587500</td>\n",
              "      <td>3.410000</td>\n",
              "      <td>9.400000</td>\n",
              "      <td>116.000000</td>\n",
              "      <td>5500.000000</td>\n",
              "      <td>30.000000</td>\n",
              "      <td>34.000000</td>\n",
              "      <td>16500.000000</td>\n",
              "    </tr>\n",
              "    <tr>\n",
              "      <th>max</th>\n",
              "      <td>3.000000</td>\n",
              "      <td>256.000000</td>\n",
              "      <td>120.900000</td>\n",
              "      <td>208.100000</td>\n",
              "      <td>72.300000</td>\n",
              "      <td>59.800000</td>\n",
              "      <td>4066.000000</td>\n",
              "      <td>326.000000</td>\n",
              "      <td>3.940000</td>\n",
              "      <td>4.170000</td>\n",
              "      <td>23.000000</td>\n",
              "      <td>288.000000</td>\n",
              "      <td>6600.000000</td>\n",
              "      <td>49.000000</td>\n",
              "      <td>54.000000</td>\n",
              "      <td>45400.000000</td>\n",
              "    </tr>\n",
              "  </tbody>\n",
              "</table>\n",
              "</div>\n",
              "      <button class=\"colab-df-convert\" onclick=\"convertToInteractive('df-c1b48a7d-7fea-4224-9000-ea5cb2ea12a0')\"\n",
              "              title=\"Convert this dataframe to an interactive table.\"\n",
              "              style=\"display:none;\">\n",
              "        \n",
              "  <svg xmlns=\"http://www.w3.org/2000/svg\" height=\"24px\"viewBox=\"0 0 24 24\"\n",
              "       width=\"24px\">\n",
              "    <path d=\"M0 0h24v24H0V0z\" fill=\"none\"/>\n",
              "    <path d=\"M18.56 5.44l.94 2.06.94-2.06 2.06-.94-2.06-.94-.94-2.06-.94 2.06-2.06.94zm-11 1L8.5 8.5l.94-2.06 2.06-.94-2.06-.94L8.5 2.5l-.94 2.06-2.06.94zm10 10l.94 2.06.94-2.06 2.06-.94-2.06-.94-.94-2.06-.94 2.06-2.06.94z\"/><path d=\"M17.41 7.96l-1.37-1.37c-.4-.4-.92-.59-1.43-.59-.52 0-1.04.2-1.43.59L10.3 9.45l-7.72 7.72c-.78.78-.78 2.05 0 2.83L4 21.41c.39.39.9.59 1.41.59.51 0 1.02-.2 1.41-.59l7.78-7.78 2.81-2.81c.8-.78.8-2.07 0-2.86zM5.41 20L4 18.59l7.72-7.72 1.47 1.35L5.41 20z\"/>\n",
              "  </svg>\n",
              "      </button>\n",
              "      \n",
              "  <style>\n",
              "    .colab-df-container {\n",
              "      display:flex;\n",
              "      flex-wrap:wrap;\n",
              "      gap: 12px;\n",
              "    }\n",
              "\n",
              "    .colab-df-convert {\n",
              "      background-color: #E8F0FE;\n",
              "      border: none;\n",
              "      border-radius: 50%;\n",
              "      cursor: pointer;\n",
              "      display: none;\n",
              "      fill: #1967D2;\n",
              "      height: 32px;\n",
              "      padding: 0 0 0 0;\n",
              "      width: 32px;\n",
              "    }\n",
              "\n",
              "    .colab-df-convert:hover {\n",
              "      background-color: #E2EBFA;\n",
              "      box-shadow: 0px 1px 2px rgba(60, 64, 67, 0.3), 0px 1px 3px 1px rgba(60, 64, 67, 0.15);\n",
              "      fill: #174EA6;\n",
              "    }\n",
              "\n",
              "    [theme=dark] .colab-df-convert {\n",
              "      background-color: #3B4455;\n",
              "      fill: #D2E3FC;\n",
              "    }\n",
              "\n",
              "    [theme=dark] .colab-df-convert:hover {\n",
              "      background-color: #434B5C;\n",
              "      box-shadow: 0px 1px 3px 1px rgba(0, 0, 0, 0.15);\n",
              "      filter: drop-shadow(0px 1px 2px rgba(0, 0, 0, 0.3));\n",
              "      fill: #FFFFFF;\n",
              "    }\n",
              "  </style>\n",
              "\n",
              "      <script>\n",
              "        const buttonEl =\n",
              "          document.querySelector('#df-c1b48a7d-7fea-4224-9000-ea5cb2ea12a0 button.colab-df-convert');\n",
              "        buttonEl.style.display =\n",
              "          google.colab.kernel.accessAllowed ? 'block' : 'none';\n",
              "\n",
              "        async function convertToInteractive(key) {\n",
              "          const element = document.querySelector('#df-c1b48a7d-7fea-4224-9000-ea5cb2ea12a0');\n",
              "          const dataTable =\n",
              "            await google.colab.kernel.invokeFunction('convertToInteractive',\n",
              "                                                     [key], {});\n",
              "          if (!dataTable) return;\n",
              "\n",
              "          const docLinkHtml = 'Like what you see? Visit the ' +\n",
              "            '<a target=\"_blank\" href=https://colab.research.google.com/notebooks/data_table.ipynb>data table notebook</a>'\n",
              "            + ' to learn more about interactive tables.';\n",
              "          element.innerHTML = '';\n",
              "          dataTable['output_type'] = 'display_data';\n",
              "          await google.colab.output.renderOutput(dataTable, element);\n",
              "          const docLink = document.createElement('div');\n",
              "          docLink.innerHTML = docLinkHtml;\n",
              "          element.appendChild(docLink);\n",
              "        }\n",
              "      </script>\n",
              "    </div>\n",
              "  </div>\n",
              "  "
            ]
          },
          "metadata": {},
          "execution_count": 55
        }
      ]
    },
    {
      "cell_type": "markdown",
      "source": [
        "Based on the pandas describe command theres no real big issue we can see right now. Something to note is that the max for symboling is 3 and the min is -2 meaning there is not a single automobile with the max safety rating."
      ],
      "metadata": {
        "id": "mFw_vkdt1E_N"
      }
    },
    {
      "cell_type": "code",
      "source": [
        "sns.factorplot(x='make', data=df , kind='count',size = 8, aspect=4 )\n",
        "sns.factorplot(x='fuel-type', data=df , kind='count',size = 3,aspect=1.1 )\n",
        "sns.factorplot(x='aspiration', data=df , kind='count',size = 3,aspect=1.1 )\n",
        "sns.factorplot(x='num-of-doors', data=df , kind='count',size = 3, aspect=3 )\n",
        "sns.factorplot(x='body-style', data=df , kind='count',size = 3,aspect=2 )\n",
        "sns.factorplot(x='drive-wheels', data=df , kind='count',size = 3,aspect=1.1 )\n",
        "sns.factorplot(x='engine-location', data=df , kind='count',size = 3, aspect=1.1 )\n",
        "sns.factorplot(x='engine-type', data=df , kind='count',size = 3,aspect=2 )\n",
        "sns.factorplot(x='num-of-cylinders', data=df , kind='count',size = 3,aspect=4 )\n",
        "\n"
      ],
      "metadata": {
        "colab": {
          "base_uri": "https://localhost:8080/",
          "height": 1000
        },
        "id": "h6KxQMJ0yCcr",
        "outputId": "29e8b5ac-51df-422e-a3d0-e06a8f652e83"
      },
      "execution_count": 56,
      "outputs": [
        {
          "output_type": "stream",
          "name": "stderr",
          "text": [
            "/usr/local/lib/python3.7/dist-packages/seaborn/categorical.py:3717: UserWarning: The `factorplot` function has been renamed to `catplot`. The original name will be removed in a future release. Please update your code. Note that the default `kind` in `factorplot` (`'point'`) has changed `'strip'` in `catplot`.\n",
            "  warnings.warn(msg)\n",
            "/usr/local/lib/python3.7/dist-packages/seaborn/categorical.py:3723: UserWarning: The `size` parameter has been renamed to `height`; please update your code.\n",
            "  warnings.warn(msg, UserWarning)\n",
            "/usr/local/lib/python3.7/dist-packages/seaborn/categorical.py:3717: UserWarning: The `factorplot` function has been renamed to `catplot`. The original name will be removed in a future release. Please update your code. Note that the default `kind` in `factorplot` (`'point'`) has changed `'strip'` in `catplot`.\n",
            "  warnings.warn(msg)\n",
            "/usr/local/lib/python3.7/dist-packages/seaborn/categorical.py:3723: UserWarning: The `size` parameter has been renamed to `height`; please update your code.\n",
            "  warnings.warn(msg, UserWarning)\n",
            "/usr/local/lib/python3.7/dist-packages/seaborn/categorical.py:3717: UserWarning: The `factorplot` function has been renamed to `catplot`. The original name will be removed in a future release. Please update your code. Note that the default `kind` in `factorplot` (`'point'`) has changed `'strip'` in `catplot`.\n",
            "  warnings.warn(msg)\n",
            "/usr/local/lib/python3.7/dist-packages/seaborn/categorical.py:3723: UserWarning: The `size` parameter has been renamed to `height`; please update your code.\n",
            "  warnings.warn(msg, UserWarning)\n",
            "/usr/local/lib/python3.7/dist-packages/seaborn/categorical.py:3717: UserWarning: The `factorplot` function has been renamed to `catplot`. The original name will be removed in a future release. Please update your code. Note that the default `kind` in `factorplot` (`'point'`) has changed `'strip'` in `catplot`.\n",
            "  warnings.warn(msg)\n",
            "/usr/local/lib/python3.7/dist-packages/seaborn/categorical.py:3723: UserWarning: The `size` parameter has been renamed to `height`; please update your code.\n",
            "  warnings.warn(msg, UserWarning)\n",
            "/usr/local/lib/python3.7/dist-packages/seaborn/categorical.py:3717: UserWarning: The `factorplot` function has been renamed to `catplot`. The original name will be removed in a future release. Please update your code. Note that the default `kind` in `factorplot` (`'point'`) has changed `'strip'` in `catplot`.\n",
            "  warnings.warn(msg)\n",
            "/usr/local/lib/python3.7/dist-packages/seaborn/categorical.py:3723: UserWarning: The `size` parameter has been renamed to `height`; please update your code.\n",
            "  warnings.warn(msg, UserWarning)\n",
            "/usr/local/lib/python3.7/dist-packages/seaborn/categorical.py:3717: UserWarning: The `factorplot` function has been renamed to `catplot`. The original name will be removed in a future release. Please update your code. Note that the default `kind` in `factorplot` (`'point'`) has changed `'strip'` in `catplot`.\n",
            "  warnings.warn(msg)\n",
            "/usr/local/lib/python3.7/dist-packages/seaborn/categorical.py:3723: UserWarning: The `size` parameter has been renamed to `height`; please update your code.\n",
            "  warnings.warn(msg, UserWarning)\n",
            "/usr/local/lib/python3.7/dist-packages/seaborn/categorical.py:3717: UserWarning: The `factorplot` function has been renamed to `catplot`. The original name will be removed in a future release. Please update your code. Note that the default `kind` in `factorplot` (`'point'`) has changed `'strip'` in `catplot`.\n",
            "  warnings.warn(msg)\n",
            "/usr/local/lib/python3.7/dist-packages/seaborn/categorical.py:3723: UserWarning: The `size` parameter has been renamed to `height`; please update your code.\n",
            "  warnings.warn(msg, UserWarning)\n",
            "/usr/local/lib/python3.7/dist-packages/seaborn/categorical.py:3717: UserWarning: The `factorplot` function has been renamed to `catplot`. The original name will be removed in a future release. Please update your code. Note that the default `kind` in `factorplot` (`'point'`) has changed `'strip'` in `catplot`.\n",
            "  warnings.warn(msg)\n",
            "/usr/local/lib/python3.7/dist-packages/seaborn/categorical.py:3723: UserWarning: The `size` parameter has been renamed to `height`; please update your code.\n",
            "  warnings.warn(msg, UserWarning)\n",
            "/usr/local/lib/python3.7/dist-packages/seaborn/categorical.py:3717: UserWarning: The `factorplot` function has been renamed to `catplot`. The original name will be removed in a future release. Please update your code. Note that the default `kind` in `factorplot` (`'point'`) has changed `'strip'` in `catplot`.\n",
            "  warnings.warn(msg)\n",
            "/usr/local/lib/python3.7/dist-packages/seaborn/categorical.py:3723: UserWarning: The `size` parameter has been renamed to `height`; please update your code.\n",
            "  warnings.warn(msg, UserWarning)\n"
          ]
        },
        {
          "output_type": "execute_result",
          "data": {
            "text/plain": [
              "<seaborn.axisgrid.FacetGrid at 0x7fcb06576610>"
            ]
          },
          "metadata": {},
          "execution_count": 56
        },
        {
          "output_type": "display_data",
          "data": {
            "text/plain": [
              "<Figure size 2304x576 with 1 Axes>"
            ],
            "image/png": "[encoded data removed]"
          },
          "metadata": {
            "needs_background": "light"
          }
        },
        {
          "output_type": "display_data",
          "data": {
            "text/plain": [
              "<Figure size 237.6x216 with 1 Axes>"
            ],
            "image/png": "[encoded data removed]"
          },
          "metadata": {
            "needs_background": "light"
          }
        },
        {
          "output_type": "display_data",
          "data": {
            "text/plain": [
              "<Figure size 237.6x216 with 1 Axes>"
            ],
            "image/png": "[encoded data removed]"
          },
          "metadata": {
            "needs_background": "light"
          }
        },
        {
          "output_type": "display_data",
          "data": {
            "text/plain": [
              "<Figure size 648x216 with 1 Axes>"
            ],
            "image/png": "[encoded data removed]"
          },
          "metadata": {
            "needs_background": "light"
          }
        },
        {
          "output_type": "display_data",
          "data": {
            "text/plain": [
              "<Figure size 432x216 with 1 Axes>"
            ],
            "image/png": "[encoded data removed]"
          },
          "metadata": {
            "needs_background": "light"
          }
        },
        {
          "output_type": "display_data",
          "data": {
            "text/plain": [
              "<Figure size 237.6x216 with 1 Axes>"
            ],
            "image/png": "[encoded data removed]"
          },
          "metadata": {
            "needs_background": "light"
          }
        },
        {
          "output_type": "display_data",
          "data": {
            "text/plain": [
              "<Figure size 237.6x216 with 1 Axes>"
            ],
            "image/png": "[encoded data removed]"
          },
          "metadata": {
            "needs_background": "light"
          }
        },
        {
          "output_type": "display_data",
          "data": {
            "text/plain": [
              "<Figure size 432x216 with 1 Axes>"
            ],
            "image/png": "[encoded data removed]"
          },
          "metadata": {
            "needs_background": "light"
          }
        },
        {
          "output_type": "display_data",
          "data": {
            "text/plain": [
              "<Figure size 864x216 with 1 Axes>"
            ],
            "image/png": "[encoded data removed]"
          },
          "metadata": {
            "needs_background": "light"
          }
        }
      ]
    },
    {
      "cell_type": "code",
      "source": [
        "class color:\n",
        "   BOLD = '\\033[1m'\n",
        "   END = '\\033[0m'\n",
        "print(color.BOLD + \"Make Data\\n\\n\" + color.END, df['make'].value_counts())\n",
        "print(color.BOLD +\"\\n\\nFuel Type Data\\n\\n\"+ color.END, df['fuel-type'].value_counts())\n",
        "print(color.BOLD +\"\\n\\nAspiration Data\\n\\n\"+ color.END, df['aspiration'].value_counts())\n",
        "print(color.BOLD + \"\\n\\nNumber of Doors Data\\n\\n\" + color.END, df['num-of-doors'].value_counts())\n",
        "print(color.BOLD +\"\\n\\nBody Style Data\\n\\n\"+ color.END, df['body-style'].value_counts())\n",
        "print(color.BOLD +\"\\n\\nWheel Drive Data\\n\\n\"+ color.END, df['drive-wheels'].value_counts())\n",
        "print(color.BOLD + \"\\n\\nEngine Location Data\\n\\n\" + color.END, df['engine-location'].value_counts())\n",
        "print(color.BOLD +\"\\n\\nFuel System Data\\n\\n\"+ color.END, df['fuel-system'].value_counts())\n"
      ],
      "metadata": {
        "colab": {
          "base_uri": "https://localhost:8080/"
        },
        "id": "Oi9UibOomG8b",
        "outputId": "70eaa505-5831-4778-b8a1-3c448a0ebec3"
      },
      "execution_count": 57,
      "outputs": [
        {
          "output_type": "stream",
          "name": "stdout",
          "text": [
            "\u001b[1mMake Data\n",
            "\n",
            "\u001b[0m toyota           32\n",
            "nissan           18\n",
            "mazda            16\n",
            "mitsubishi       13\n",
            "honda            13\n",
            "volkswagen       12\n",
            "subaru           12\n",
            "peugot           11\n",
            "volvo            11\n",
            "mercedes-benz     8\n",
            "dodge             8\n",
            "bmw               8\n",
            "audi              7\n",
            "plymouth          7\n",
            "saab              6\n",
            "porsche           5\n",
            "isuzu             4\n",
            "jaguar            3\n",
            "chevrolet         3\n",
            "renault           2\n",
            "alfa-romero       2\n",
            "mercury           1\n",
            "Name: make, dtype: int64\n",
            "\u001b[1m\n",
            "\n",
            "Fuel Type Data\n",
            "\n",
            "\u001b[0m gas       183\n",
            "diesel     19\n",
            "Name: fuel-type, dtype: int64\n",
            "\u001b[1m\n",
            "\n",
            "Aspiration Data\n",
            "\n",
            "\u001b[0m std      166\n",
            "turbo     36\n",
            "Name: aspiration, dtype: int64\n",
            "\u001b[1m\n",
            "\n",
            "Number of Doors Data\n",
            "\n",
            "\u001b[0m four    114\n",
            "two      88\n",
            "Name: num-of-doors, dtype: int64\n",
            "\u001b[1m\n",
            "\n",
            "Body Style Data\n",
            "\n",
            "\u001b[0m sedan          94\n",
            "hatchback      70\n",
            "wagon          25\n",
            "hardtop         8\n",
            "convertible     5\n",
            "Name: body-style, dtype: int64\n",
            "\u001b[1m\n",
            "\n",
            "Wheel Drive Data\n",
            "\n",
            "\u001b[0m fwd    118\n",
            "rwd     75\n",
            "4wd      9\n",
            "Name: drive-wheels, dtype: int64\n",
            "\u001b[1m\n",
            "\n",
            "Engine Location Data\n",
            "\n",
            "\u001b[0m front    199\n",
            "rear       3\n",
            "Name: engine-location, dtype: int64\n",
            "\u001b[1m\n",
            "\n",
            "Fuel System Data\n",
            "\n",
            "\u001b[0m mpfi    92\n",
            "2bbl    66\n",
            "idi     19\n",
            "1bbl    11\n",
            "spdi     9\n",
            "4bbl     3\n",
            "mfi      1\n",
            "spfi     1\n",
            "Name: fuel-system, dtype: int64\n"
          ]
        }
      ]
    },
    {
      "cell_type": "markdown",
      "source": [
        "From the graph and the count of data we can see the maximum of every categorical data type. The most popular car brand is Toyota. The most common type of fuel used in a car is gas. The most aspiration is standard. Four is the most common doors on a car.  Sedans are the most common type of body for an automobile. The Front wheel drive is the most popular wheel drive. Engine is mostly located in the front for almost every vehicle. And Mpfi is th emost common fuel system."
      ],
      "metadata": {
        "id": "40F7iGEZlmYB"
      }
    },
    {
      "cell_type": "code",
      "source": [
        "df['symboling'].hist(bins = 6)"
      ],
      "metadata": {
        "colab": {
          "base_uri": "https://localhost:8080/",
          "height": 283
        },
        "id": "Shb7hoM1p4ge",
        "outputId": "0bb2b1e8-27f4-41df-ea92-63ebdefba16c"
      },
      "execution_count": 58,
      "outputs": [
        {
          "output_type": "execute_result",
          "data": {
            "text/plain": [
              "<matplotlib.axes._subplots.AxesSubplot at 0x7fcb06887910>"
            ]
          },
          "metadata": {},
          "execution_count": 58
        },
        {
          "output_type": "display_data",
          "data": {
            "text/plain": [
              "<Figure size 432x288 with 1 Axes>"
            ],
            "image/png": "[encoded data removed]"
          },
          "metadata": {
            "needs_background": "light"
          }
        }
      ]
    },
    {
      "cell_type": "markdown",
      "source": [
        "From the graph above we can see that most cars fall under the middle range of safety. Very few of the cars are really safe and in fact NO car has the -3 maximum level of safety. While ther are multiple cars that are ranked 3 which is the lowest level of safety."
      ],
      "metadata": {
        "id": "g498uJCVqMIL"
      }
    },
    {
      "cell_type": "code",
      "source": [
        "df['normalized-losses'].hist()"
      ],
      "metadata": {
        "colab": {
          "base_uri": "https://localhost:8080/",
          "height": 283
        },
        "id": "QqBSy0xdqwzJ",
        "outputId": "75b5b819-ed9e-4ec7-b717-6cccce59593f"
      },
      "execution_count": 59,
      "outputs": [
        {
          "output_type": "execute_result",
          "data": {
            "text/plain": [
              "<matplotlib.axes._subplots.AxesSubplot at 0x7fcb06370d10>"
            ]
          },
          "metadata": {},
          "execution_count": 59
        },
        {
          "output_type": "display_data",
          "data": {
            "text/plain": [
              "<Figure size 432x288 with 1 Axes>"
            ],
            "image/png": "[encoded data removed]"
          },
          "metadata": {
            "needs_background": "light"
          }
        }
      ]
    },
    {
      "cell_type": "markdown",
      "source": [
        "As can seen by the graph the most common normalized loss is between 100-125."
      ],
      "metadata": {
        "id": "0QxQhFJorD7x"
      }
    },
    {
      "cell_type": "code",
      "source": [
        "df['curb-weight'].hist()"
      ],
      "metadata": {
        "colab": {
          "base_uri": "https://localhost:8080/",
          "height": 283
        },
        "id": "n2LER3jTro_N",
        "outputId": "23a9742b-b364-4683-bf75-6103ac4341cc"
      },
      "execution_count": 60,
      "outputs": [
        {
          "output_type": "execute_result",
          "data": {
            "text/plain": [
              "<matplotlib.axes._subplots.AxesSubplot at 0x7fcb06370bd0>"
            ]
          },
          "metadata": {},
          "execution_count": 60
        },
        {
          "output_type": "display_data",
          "data": {
            "text/plain": [
              "<Figure size 432x288 with 1 Axes>"
            ],
            "image/png": "[encoded data removed]"
          },
          "metadata": {
            "needs_background": "light"
          }
        }
      ]
    },
    {
      "cell_type": "markdown",
      "source": [
        "The most common weight amongst cars is between 2000-2500."
      ],
      "metadata": {
        "id": "mxWA2RHirvxI"
      }
    },
    {
      "cell_type": "code",
      "source": [
        "df['horsepower'].hist()"
      ],
      "metadata": {
        "colab": {
          "base_uri": "https://localhost:8080/",
          "height": 283
        },
        "id": "jjgx3JzbsBsP",
        "outputId": "7824aae0-f198-4fd1-f962-2ade3f92b0c3"
      },
      "execution_count": 61,
      "outputs": [
        {
          "output_type": "execute_result",
          "data": {
            "text/plain": [
              "<matplotlib.axes._subplots.AxesSubplot at 0x7fcb067526d0>"
            ]
          },
          "metadata": {},
          "execution_count": 61
        },
        {
          "output_type": "display_data",
          "data": {
            "text/plain": [
              "<Figure size 432x288 with 1 Axes>"
            ],
            "image/png": "[encoded data removed]"
          },
          "metadata": {
            "needs_background": "light"
          }
        }
      ]
    },
    {
      "cell_type": "markdown",
      "source": [
        "Most cars have a horsepower between 50-100."
      ],
      "metadata": {
        "id": "4AHcDY5SsHI3"
      }
    },
    {
      "cell_type": "code",
      "source": [
        "df['city-mpg'].hist()"
      ],
      "metadata": {
        "colab": {
          "base_uri": "https://localhost:8080/",
          "height": 283
        },
        "id": "KPwlmL7JsObh",
        "outputId": "32176e53-67e8-440f-c899-e90011e5b35c"
      },
      "execution_count": 62,
      "outputs": [
        {
          "output_type": "execute_result",
          "data": {
            "text/plain": [
              "<matplotlib.axes._subplots.AxesSubplot at 0x7fcb0655c2d0>"
            ]
          },
          "metadata": {},
          "execution_count": 62
        },
        {
          "output_type": "display_data",
          "data": {
            "text/plain": [
              "<Figure size 432x288 with 1 Axes>"
            ],
            "image/png": "[encoded data removed]"
          },
          "metadata": {
            "needs_background": "light"
          }
        }
      ]
    },
    {
      "cell_type": "markdown",
      "source": [
        "The graph is a bit more spread out for the mpg in the city but the most common is between 22.5-27.5."
      ],
      "metadata": {
        "id": "wG-J6QsCsaoy"
      }
    },
    {
      "cell_type": "code",
      "source": [
        "df['highway-mpg'].hist()"
      ],
      "metadata": {
        "colab": {
          "base_uri": "https://localhost:8080/",
          "height": 283
        },
        "id": "ty1WCuGxsi1R",
        "outputId": "739a03f9-58d3-4e25-824b-f2489d4eb4c2"
      },
      "execution_count": 63,
      "outputs": [
        {
          "output_type": "execute_result",
          "data": {
            "text/plain": [
              "<matplotlib.axes._subplots.AxesSubplot at 0x7fcb064d1810>"
            ]
          },
          "metadata": {},
          "execution_count": 63
        },
        {
          "output_type": "display_data",
          "data": {
            "text/plain": [
              "<Figure size 432x288 with 1 Axes>"
            ],
            "image/png": "[encoded data removed]"
          },
          "metadata": {
            "needs_background": "light"
          }
        }
      ]
    },
    {
      "cell_type": "markdown",
      "source": [
        "The data for highway mpg is much more normal looking compared to city mpg, here we can see its a normal rise and fall between 24-38."
      ],
      "metadata": {
        "id": "9vUUeH0ZsmwZ"
      }
    },
    {
      "cell_type": "code",
      "source": [
        "corr = df.corr()\n",
        "plt.figure(figsize=(11,7))\n",
        "heatmap = sns.heatmap(corr, annot=True)\n",
        "print(heatmap)"
      ],
      "metadata": {
        "colab": {
          "base_uri": "https://localhost:8080/",
          "height": 530
        },
        "id": "9_Bl3YlxtYT1",
        "outputId": "8d8b0532-484c-48d4-b7df-3878936205a4"
      },
      "execution_count": 64,
      "outputs": [
        {
          "output_type": "stream",
          "name": "stdout",
          "text": [
            "AxesSubplot(0.125,0.125;0.62x0.755)\n"
          ]
        },
        {
          "output_type": "display_data",
          "data": {
            "text/plain": [
              "<Figure size 792x504 with 2 Axes>"
            ],
            "image/png": "[encoded data removed]"
          },
          "metadata": {
            "needs_background": "light"
          }
        }
      ]
    },
    {
      "cell_type": "markdown",
      "source": [
        "Notes about Correlation: \n",
        "* The size of the engine as well as the curb weight seems to play a large role in the cars price as they have a high correlation.\n",
        "* Curb weight is highly correlated with length, width, engine size and the price of the car.\n",
        "* The engine size is pretty highly correlated with horse power and price.\n",
        "* Symboling isn't highly correlated with any other attribute it's closest being normalized losses positively and height negatively.\n",
        "* Curb weight very heavily is correlated negatively with highway mpg"
      ],
      "metadata": {
        "id": "af5HYbrJvS5j"
      }
    },
    {
      "cell_type": "code",
      "source": [
        "pricevsWeight = sns.lmplot('price',\"engine-size\", df)"
      ],
      "metadata": {
        "colab": {
          "base_uri": "https://localhost:8080/",
          "height": 425
        },
        "id": "O2cV7ghQwkqy",
        "outputId": "1eea6e85-4cea-4493-8a21-1bc519421514"
      },
      "execution_count": 65,
      "outputs": [
        {
          "output_type": "stream",
          "name": "stderr",
          "text": [
            "/usr/local/lib/python3.7/dist-packages/seaborn/_decorators.py:43: FutureWarning: Pass the following variables as keyword args: x, y, data. From version 0.12, the only valid positional argument will be `data`, and passing other arguments without an explicit keyword will result in an error or misinterpretation.\n",
            "  FutureWarning\n"
          ]
        },
        {
          "output_type": "display_data",
          "data": {
            "text/plain": [
              "<Figure size 360x360 with 1 Axes>"
            ],
            "image/png": "[encoded data removed]"
          },
          "metadata": {
            "needs_background": "light"
          }
        }
      ]
    },
    {
      "cell_type": "markdown",
      "source": [
        "As the size of the engine increases so does the cost of the car."
      ],
      "metadata": {
        "id": "QoEXyHbYxQvL"
      }
    },
    {
      "cell_type": "code",
      "source": [
        "enginevsHorsepower = sns.lmplot('engine-size',\"horsepower\", df)"
      ],
      "metadata": {
        "colab": {
          "base_uri": "https://localhost:8080/",
          "height": 425
        },
        "id": "GCos8sqixWF9",
        "outputId": "72c559d1-7dee-4c4a-a21a-9af01eb4544f"
      },
      "execution_count": 66,
      "outputs": [
        {
          "output_type": "stream",
          "name": "stderr",
          "text": [
            "/usr/local/lib/python3.7/dist-packages/seaborn/_decorators.py:43: FutureWarning: Pass the following variables as keyword args: x, y, data. From version 0.12, the only valid positional argument will be `data`, and passing other arguments without an explicit keyword will result in an error or misinterpretation.\n",
            "  FutureWarning\n"
          ]
        },
        {
          "output_type": "display_data",
          "data": {
            "text/plain": [
              "<Figure size 360x360 with 1 Axes>"
            ],
            "image/png": "[encoded data removed]"
          },
          "metadata": {
            "needs_background": "light"
          }
        }
      ]
    },
    {
      "cell_type": "markdown",
      "source": [
        "As the size of the engine increases so does the horsepower they are positively correlated."
      ],
      "metadata": {
        "id": "RDgP7Lyzxing"
      }
    },
    {
      "cell_type": "code",
      "source": [
        "highwayvsWeight = sns.lmplot('curb-weight',\"highway-mpg\", df)"
      ],
      "metadata": {
        "colab": {
          "base_uri": "https://localhost:8080/",
          "height": 425
        },
        "id": "BDXwzK2FxoE2",
        "outputId": "bfcfbeff-447c-4a40-f67d-b084ebf8c839"
      },
      "execution_count": 67,
      "outputs": [
        {
          "output_type": "stream",
          "name": "stderr",
          "text": [
            "/usr/local/lib/python3.7/dist-packages/seaborn/_decorators.py:43: FutureWarning: Pass the following variables as keyword args: x, y, data. From version 0.12, the only valid positional argument will be `data`, and passing other arguments without an explicit keyword will result in an error or misinterpretation.\n",
            "  FutureWarning\n"
          ]
        },
        {
          "output_type": "display_data",
          "data": {
            "text/plain": [
              "<Figure size 360x360 with 1 Axes>"
            ],
            "image/png": "[encoded data removed]"
          },
          "metadata": {
            "needs_background": "light"
          }
        }
      ]
    },
    {
      "cell_type": "markdown",
      "source": [
        "As the curb weight increases the highway mpg decreases drastically beacuse they are heavily negatively correlated."
      ],
      "metadata": {
        "id": "U0Faw8qUyCu4"
      }
    },
    {
      "cell_type": "code",
      "source": [
        "plt.figure(figsize=(11,7))\n",
        "sns.scatterplot(x = 'price',y='make',data=df)"
      ],
      "metadata": {
        "colab": {
          "base_uri": "https://localhost:8080/",
          "height": 460
        },
        "id": "OpSvWfa9yYJl",
        "outputId": "577ba457-be68-4d4d-a7f0-1d68a7e6ece9"
      },
      "execution_count": 68,
      "outputs": [
        {
          "output_type": "execute_result",
          "data": {
            "text/plain": [
              "<matplotlib.axes._subplots.AxesSubplot at 0x7fcb06093a90>"
            ]
          },
          "metadata": {},
          "execution_count": 68
        },
        {
          "output_type": "display_data",
          "data": {
            "text/plain": [
              "<Figure size 792x504 with 1 Axes>"
            ],
            "image/png": "[encoded data removed]"
          },
          "metadata": {
            "needs_background": "light"
          }
        }
      ]
    },
    {
      "cell_type": "markdown",
      "source": [
        "From the scatterplot we can see the pricing of all the makes and from what we can make of it Mercedes Benz makes the most expensive cars and can be concluded to be a luxury brand. While BMW also makes expensive cars but also makes some that are affordable. Mercedes cheapest car is in the middle range of all the cars."
      ],
      "metadata": {
        "id": "0x2lNfnUytnm"
      }
    },
    {
      "cell_type": "code",
      "source": [
        "sns.boxplot(data=df[['normalized-losses']])"
      ],
      "metadata": {
        "colab": {
          "base_uri": "https://localhost:8080/",
          "height": 283
        },
        "id": "CV1Y0BgH06Wn",
        "outputId": "a568e8c5-b2f7-4c6e-f0f4-f32f5d67bb5c"
      },
      "execution_count": 69,
      "outputs": [
        {
          "output_type": "execute_result",
          "data": {
            "text/plain": [
              "<matplotlib.axes._subplots.AxesSubplot at 0x7fcb0602f090>"
            ]
          },
          "metadata": {},
          "execution_count": 69
        },
        {
          "output_type": "display_data",
          "data": {
            "text/plain": [
              "<Figure size 432x288 with 1 Axes>"
            ],
            "image/png": "[encoded data removed]"
          },
          "metadata": {
            "needs_background": "light"
          }
        }
      ]
    },
    {
      "cell_type": "code",
      "source": [
        "sns.boxplot(data=df[['wheel-base']])"
      ],
      "metadata": {
        "colab": {
          "base_uri": "https://localhost:8080/",
          "height": 283
        },
        "id": "2DO_ycZF14Vi",
        "outputId": "18cfb017-cf53-45e1-c28a-f5503b5f94f8"
      },
      "execution_count": 70,
      "outputs": [
        {
          "output_type": "execute_result",
          "data": {
            "text/plain": [
              "<matplotlib.axes._subplots.AxesSubplot at 0x7fcb05fa2590>"
            ]
          },
          "metadata": {},
          "execution_count": 70
        },
        {
          "output_type": "display_data",
          "data": {
            "text/plain": [
              "<Figure size 432x288 with 1 Axes>"
            ],
            "image/png": "[encoded data removed]"
          },
          "metadata": {
            "needs_background": "light"
          }
        }
      ]
    },
    {
      "cell_type": "code",
      "source": [
        "sns.boxplot(data=df[['width']])"
      ],
      "metadata": {
        "colab": {
          "base_uri": "https://localhost:8080/",
          "height": 283
        },
        "id": "f3Y8-4wY2B2b",
        "outputId": "563dfce8-5743-429d-a373-b4e7c9ecac44"
      },
      "execution_count": 71,
      "outputs": [
        {
          "output_type": "execute_result",
          "data": {
            "text/plain": [
              "<matplotlib.axes._subplots.AxesSubplot at 0x7fcb05f193d0>"
            ]
          },
          "metadata": {},
          "execution_count": 71
        },
        {
          "output_type": "display_data",
          "data": {
            "text/plain": [
              "<Figure size 432x288 with 1 Axes>"
            ],
            "image/png": "[encoded data removed]"
          },
          "metadata": {
            "needs_background": "light"
          }
        }
      ]
    },
    {
      "cell_type": "code",
      "source": [
        "sns.boxplot(data=df[['engine-size']])"
      ],
      "metadata": {
        "colab": {
          "base_uri": "https://localhost:8080/",
          "height": 283
        },
        "id": "dP27zFkE2E03",
        "outputId": "25946aa2-b46c-4ea2-f7a4-b066dd25f9ad"
      },
      "execution_count": 72,
      "outputs": [
        {
          "output_type": "execute_result",
          "data": {
            "text/plain": [
              "<matplotlib.axes._subplots.AxesSubplot at 0x7fcb05e86590>"
            ]
          },
          "metadata": {},
          "execution_count": 72
        },
        {
          "output_type": "display_data",
          "data": {
            "text/plain": [
              "<Figure size 432x288 with 1 Axes>"
            ],
            "image/png": "[encoded data removed]"
          },
          "metadata": {
            "needs_background": "light"
          }
        }
      ]
    },
    {
      "cell_type": "code",
      "source": [
        "sns.boxplot(data=df[['stroke']])"
      ],
      "metadata": {
        "colab": {
          "base_uri": "https://localhost:8080/",
          "height": 283
        },
        "id": "PD4SshF12Rz1",
        "outputId": "64e6397e-e897-4306-c126-c27f95d2ba78"
      },
      "execution_count": 73,
      "outputs": [
        {
          "output_type": "execute_result",
          "data": {
            "text/plain": [
              "<matplotlib.axes._subplots.AxesSubplot at 0x7fcb05e67490>"
            ]
          },
          "metadata": {},
          "execution_count": 73
        },
        {
          "output_type": "display_data",
          "data": {
            "text/plain": [
              "<Figure size 432x288 with 1 Axes>"
            ],
            "image/png": "[encoded data removed]"
          },
          "metadata": {
            "needs_background": "light"
          }
        }
      ]
    },
    {
      "cell_type": "code",
      "source": [
        "sns.boxplot(data=df[['compression-ratio']])"
      ],
      "metadata": {
        "colab": {
          "base_uri": "https://localhost:8080/",
          "height": 283
        },
        "id": "4RWVNHiZ2XO4",
        "outputId": "cf777391-00b8-48dd-b513-b62e507da3b0"
      },
      "execution_count": 74,
      "outputs": [
        {
          "output_type": "execute_result",
          "data": {
            "text/plain": [
              "<matplotlib.axes._subplots.AxesSubplot at 0x7fcb05dd41d0>"
            ]
          },
          "metadata": {},
          "execution_count": 74
        },
        {
          "output_type": "display_data",
          "data": {
            "text/plain": [
              "<Figure size 432x288 with 1 Axes>"
            ],
            "image/png": "[encoded data removed]"
          },
          "metadata": {
            "needs_background": "light"
          }
        }
      ]
    },
    {
      "cell_type": "code",
      "source": [
        "sns.boxplot(data=df[['horsepower']])"
      ],
      "metadata": {
        "colab": {
          "base_uri": "https://localhost:8080/",
          "height": 287
        },
        "id": "e7GQy-Ue2atm",
        "outputId": "9cf6fd5b-32bf-4cd0-c7ac-9bf6b409d346"
      },
      "execution_count": 75,
      "outputs": [
        {
          "output_type": "execute_result",
          "data": {
            "text/plain": [
              "<matplotlib.axes._subplots.AxesSubplot at 0x7fcb05d90210>"
            ]
          },
          "metadata": {},
          "execution_count": 75
        },
        {
          "output_type": "display_data",
          "data": {
            "text/plain": [
              "<Figure size 432x288 with 1 Axes>"
            ],
            "image/png": "[encoded data removed]"
          },
          "metadata": {
            "needs_background": "light"
          }
        }
      ]
    },
    {
      "cell_type": "code",
      "source": [
        "sns.boxplot(data=df[['peak-rpm']])"
      ],
      "metadata": {
        "colab": {
          "base_uri": "https://localhost:8080/",
          "height": 283
        },
        "id": "UaQalqSJ2eCO",
        "outputId": "fc8c3dfc-6e4a-418b-c330-87f217f9436c"
      },
      "execution_count": 76,
      "outputs": [
        {
          "output_type": "execute_result",
          "data": {
            "text/plain": [
              "<matplotlib.axes._subplots.AxesSubplot at 0x7fcb0661e450>"
            ]
          },
          "metadata": {},
          "execution_count": 76
        },
        {
          "output_type": "display_data",
          "data": {
            "text/plain": [
              "<Figure size 432x288 with 1 Axes>"
            ],
            "image/png": "[encoded data removed]"
          },
          "metadata": {
            "needs_background": "light"
          }
        }
      ]
    },
    {
      "cell_type": "code",
      "source": [
        "sns.boxplot(data=df[['city-mpg']])"
      ],
      "metadata": {
        "colab": {
          "base_uri": "https://localhost:8080/",
          "height": 283
        },
        "id": "kEdEDPjv2g22",
        "outputId": "afb7b1b2-df24-4671-e2d8-a47038a49acc"
      },
      "execution_count": 77,
      "outputs": [
        {
          "output_type": "execute_result",
          "data": {
            "text/plain": [
              "<matplotlib.axes._subplots.AxesSubplot at 0x7fcb068596d0>"
            ]
          },
          "metadata": {},
          "execution_count": 77
        },
        {
          "output_type": "display_data",
          "data": {
            "text/plain": [
              "<Figure size 432x288 with 1 Axes>"
            ],
            "image/png": "[encoded data removed]"
          },
          "metadata": {
            "needs_background": "light"
          }
        }
      ]
    },
    {
      "cell_type": "code",
      "source": [
        "sns.boxplot(data=df[['highway-mpg']])"
      ],
      "metadata": {
        "colab": {
          "base_uri": "https://localhost:8080/",
          "height": 283
        },
        "id": "jvM2mOWy2kEf",
        "outputId": "20d66e6e-34a2-4b36-dda9-da4e54f52122"
      },
      "execution_count": 78,
      "outputs": [
        {
          "output_type": "execute_result",
          "data": {
            "text/plain": [
              "<matplotlib.axes._subplots.AxesSubplot at 0x7fcb099d2a50>"
            ]
          },
          "metadata": {},
          "execution_count": 78
        },
        {
          "output_type": "display_data",
          "data": {
            "text/plain": [
              "<Figure size 432x288 with 1 Axes>"
            ],
            "image/png": "[encoded data removed]"
          },
          "metadata": {
            "needs_background": "light"
          }
        }
      ]
    },
    {
      "cell_type": "code",
      "source": [
        "sns.boxplot(data=df[['price']])"
      ],
      "metadata": {
        "colab": {
          "base_uri": "https://localhost:8080/",
          "height": 283
        },
        "id": "DoPysgM72ncq",
        "outputId": "58ab8a2d-ddfa-4178-de62-1c83d94fc453"
      },
      "execution_count": 79,
      "outputs": [
        {
          "output_type": "execute_result",
          "data": {
            "text/plain": [
              "<matplotlib.axes._subplots.AxesSubplot at 0x7fcb09c60210>"
            ]
          },
          "metadata": {},
          "execution_count": 79
        },
        {
          "output_type": "display_data",
          "data": {
            "text/plain": [
              "<Figure size 432x288 with 1 Axes>"
            ],
            "image/png": "[encoded data removed]"
          },
          "metadata": {
            "needs_background": "light"
          }
        }
      ]
    },
    {
      "cell_type": "markdown",
      "source": [
        "The above boxplots all have outliers and would be better viewed if feature scaled before put into machine learning algorithms."
      ],
      "metadata": {
        "id": "p6cb9mGP2vGw"
      }
    },
    {
      "cell_type": "markdown",
      "source": [
        "##Inference (Data Preparation & Feature Engineering)"
      ],
      "metadata": {
        "id": "dUHmagmszg4y"
      }
    },
    {
      "cell_type": "markdown",
      "source": [
        "1.**Which numeric variables contained within the data set appear to require the use of a\n",
        "feature scaling method for purposes of preparing them for use within a machine learning algorithm?\n",
        "Be sure to list each relevant variable and explain why you believe each variable that you’ve identified\n",
        "requires the use of some sort of feature scaling method**\n",
        "\n",
        "The numeric variables that I believe require some sort of scaling are price, normalized-losses, wheel-base, width, engine-size, stroke, compression-ratio,horsepower, peak-rpm, city-mpg, and highway-mpg. These all have outliers and could be made viewed easier with the help of feature scaling. Would be better for machine learning algorithms, although not all that I mentioned need to be scaled to be viewed comfortably by machine learning algorithms some are extreme such as compression-ratio, stroke, engine-size while others are not as bad such as horsepower."
      ],
      "metadata": {
        "id": "E5xUHWMjzikh"
      }
    },
    {
      "cell_type": "markdown",
      "source": [
        "2.**Consider the number-of-doors and price variables: Based on your EDA work, how many\n",
        "missing data values occur within each of these attributes? As we’ve learned, missing data values can\n",
        "impede the proper functioning of many machine learning algorithms. To address the missing the\n",
        "number-of-doors and price values, you have been instructed to formulate what you believe will be an\n",
        "effective data imputation approach for purposes of estimating reasonable proxies for the missing data\n",
        "values. Your supervisor tells you that the affected data observations MUST be retained within the data\n",
        "set, and that it would be inappropriate to use either a mean, median, or mode value for any of the\n",
        "missing values since doing so would increase the likelihood of introducing unwarranted bias within the\n",
        "data set. Describe the imputation method you would employ for each variable. Then, using your\n",
        "Python skills, apply your prescribed imputation methods to the variables. Be sure to include graphics\n",
        "and commentary that explain your approach as well as the results of your  efforts**\n",
        "\n"
      ],
      "metadata": {
        "id": "aFM62hHH34ZO"
      }
    },
    {
      "cell_type": "code",
      "source": [
        "question2 = pd.read_csv(\"https://raw.githubusercontent.com/Skyfallup/Summer-CSCI381-11/main/imports-85.data\", na_values='?')\n",
        "#naming the columns of the data\n",
        "question2.columns=['symboling','normalized-losses','make','fuel-type','aspiration','num-of-doors','body-style','drive-wheels','engine-location','wheel-base','length','width','height','curb-weight','engine-type','num-of-cylinders','engine-size','fuel-system','bore','stroke','compression-ratio','horsepower','peak-rpm','city-mpg','highway-mpg','price']\n",
        "question2.isnull().sum()"
      ],
      "metadata": {
        "colab": {
          "base_uri": "https://localhost:8080/"
        },
        "id": "h2AGDAiw5n-A",
        "outputId": "7ca90f9c-b78c-45d8-d734-ee0757a67e81"
      },
      "execution_count": 80,
      "outputs": [
        {
          "output_type": "execute_result",
          "data": {
            "text/plain": [
              "symboling             0\n",
              "normalized-losses    40\n",
              "make                  0\n",
              "fuel-type             0\n",
              "aspiration            0\n",
              "num-of-doors          2\n",
              "body-style            0\n",
              "drive-wheels          0\n",
              "engine-location       0\n",
              "wheel-base            0\n",
              "length                0\n",
              "width                 0\n",
              "height                0\n",
              "curb-weight           0\n",
              "engine-type           0\n",
              "num-of-cylinders      0\n",
              "engine-size           0\n",
              "fuel-system           0\n",
              "bore                  4\n",
              "stroke                4\n",
              "compression-ratio     0\n",
              "horsepower            2\n",
              "peak-rpm              2\n",
              "city-mpg              0\n",
              "highway-mpg           0\n",
              "price                 4\n",
              "dtype: int64"
            ]
          },
          "metadata": {},
          "execution_count": 80
        }
      ]
    },
    {
      "cell_type": "markdown",
      "source": [
        "number-of-doors has 2 missing values and price has 4 missing values. If we wanted to keep the rows with NaN and needed to replace the NaN values with something I believe a good choice would be to put a random number that is within the range of the min and max of the attribute, this way there is no bias when it comes to filling in a number for the NaN value."
      ],
      "metadata": {
        "id": "AZ1Obchc6PUN"
      }
    },
    {
      "cell_type": "code",
      "source": [
        "import random\n",
        "#list of possible doors choices\n",
        "doorsList=['four','two']\n",
        "question2['num-of-doors'] = question2['num-of-doors'].replace(np.nan, random.choice(doorsList))\n",
        "question2['price'] = question2['price'].replace(np.nan, random.randint(5118, 45400))\n",
        "question2.isnull().sum()"
      ],
      "metadata": {
        "colab": {
          "base_uri": "https://localhost:8080/"
        },
        "id": "0hhul-7g-bot",
        "outputId": "ade5e617-cead-4e57-a1f8-9beeb3e72d6a"
      },
      "execution_count": 81,
      "outputs": [
        {
          "output_type": "execute_result",
          "data": {
            "text/plain": [
              "symboling             0\n",
              "normalized-losses    40\n",
              "make                  0\n",
              "fuel-type             0\n",
              "aspiration            0\n",
              "num-of-doors          0\n",
              "body-style            0\n",
              "drive-wheels          0\n",
              "engine-location       0\n",
              "wheel-base            0\n",
              "length                0\n",
              "width                 0\n",
              "height                0\n",
              "curb-weight           0\n",
              "engine-type           0\n",
              "num-of-cylinders      0\n",
              "engine-size           0\n",
              "fuel-system           0\n",
              "bore                  4\n",
              "stroke                4\n",
              "compression-ratio     0\n",
              "horsepower            2\n",
              "peak-rpm              2\n",
              "city-mpg              0\n",
              "highway-mpg           0\n",
              "price                 0\n",
              "dtype: int64"
            ]
          },
          "metadata": {},
          "execution_count": 81
        }
      ]
    },
    {
      "cell_type": "markdown",
      "source": [
        "Now there is no null and the filled null values were chosen at random for num-of-doors we have chosen at random either four or two as those are the only options for it, and for price we have chose a random value in between the min and max. (5118-45400)"
      ],
      "metadata": {
        "id": "JOrsWZXOBNiD"
      }
    },
    {
      "cell_type": "markdown",
      "source": [
        "3.**Consider the engine-size and stroke variables: Describe the specific feature scaling method\n",
        "you would apply to each of them. Then, using Python, generate both a histogram and a boxplot for the\n",
        "original content of these two variables. Next, apply your prescribed feature scaling methods to the two\n",
        "variables and create histograms and boxplots that show the results of your feature scaling efforts.\n",
        "Compare your newly created plots against the plots you created for the original content of the\n",
        "variables. Comment on whether your feature scaling efforts improved the distribution of the data. If\n",
        "your feature scaling efforts did not improve the distribution of the data, explain why you believe your\n",
        "efforts were not effective.**\n",
        "\n"
      ],
      "metadata": {
        "id": "sEUNkiz4BgSb"
      }
    },
    {
      "cell_type": "code",
      "source": [
        "from sklearn.preprocessing import MinMaxScaler\n",
        "\n",
        "answer3 = pd.read_csv(\"https://raw.githubusercontent.com/Skyfallup/Summer-CSCI381-11/main/imports-85.data\", na_values='?')\n",
        "#naming the columns of the data\n",
        "answer3.columns=['symboling','normalized-losses','make','fuel-type','aspiration','num-of-doors','body-style','drive-wheels','engine-location','wheel-base','length','width','height','curb-weight','engine-type','num-of-cylinders','engine-size','fuel-system','bore','stroke','compression-ratio','horsepower','peak-rpm','city-mpg','highway-mpg','price']\n",
        "#replace NaN with median in stroke column\n",
        "answer3['stroke'].fillna(df['stroke'].median(), inplace=True)\n",
        "#create subset with engine size and stroke\n",
        "engineandStroke = answer3[['engine-size','stroke']]\n",
        "\n",
        "#print original data set\n",
        "print(\"This is the original data\")\n",
        "print(engineandStroke)\n",
        "\n",
        "scaler = MinMaxScaler()\n",
        "answer3Scaled = scaler.fit_transform(engineandStroke[['stroke','engine-size']])\n",
        "answer3Scaled = pd.DataFrame(answer3Scaled, columns = ['stroke','engine-size'])\n",
        "\n",
        "print(\"This is the scaled data\")\n",
        "print(answer3Scaled[['engine-size','stroke']])\n",
        "\n",
        "\n",
        "\n"
      ],
      "metadata": {
        "colab": {
          "base_uri": "https://localhost:8080/"
        },
        "id": "RzVAnByp2hMr",
        "outputId": "72985587-dda6-4906-dc85-5f96a9687504"
      },
      "execution_count": 82,
      "outputs": [
        {
          "output_type": "stream",
          "name": "stdout",
          "text": [
            "This is the original data\n",
            "     engine-size  stroke\n",
            "0            130    2.68\n",
            "1            152    3.47\n",
            "2            109    3.40\n",
            "3            136    3.40\n",
            "4            136    3.40\n",
            "..           ...     ...\n",
            "199          141    3.15\n",
            "200          141    3.15\n",
            "201          173    2.87\n",
            "202          145    3.40\n",
            "203          141    3.15\n",
            "\n",
            "[204 rows x 2 columns]\n",
            "This is the scaled data\n",
            "     engine-size    stroke\n",
            "0       0.260377  0.290476\n",
            "1       0.343396  0.666667\n",
            "2       0.181132  0.633333\n",
            "3       0.283019  0.633333\n",
            "4       0.283019  0.633333\n",
            "..           ...       ...\n",
            "199     0.301887  0.514286\n",
            "200     0.301887  0.514286\n",
            "201     0.422642  0.380952\n",
            "202     0.316981  0.633333\n",
            "203     0.301887  0.514286\n",
            "\n",
            "[204 rows x 2 columns]\n"
          ]
        }
      ]
    },
    {
      "cell_type": "markdown",
      "source": [
        "What we did above is we used the MinMaxScaler for the original data. Making the data more plausible for our boxplots and histograms."
      ],
      "metadata": {
        "id": "vmAkMVw19D6M"
      }
    },
    {
      "cell_type": "code",
      "source": [
        "engineandStroke.boxplot()"
      ],
      "metadata": {
        "colab": {
          "base_uri": "https://localhost:8080/",
          "height": 283
        },
        "id": "u3xe_mb-8-UK",
        "outputId": "01ff6ee7-9b61-4617-8174-686b9dff534b"
      },
      "execution_count": 83,
      "outputs": [
        {
          "output_type": "execute_result",
          "data": {
            "text/plain": [
              "<matplotlib.axes._subplots.AxesSubplot at 0x7fcb09495410>"
            ]
          },
          "metadata": {},
          "execution_count": 83
        },
        {
          "output_type": "display_data",
          "data": {
            "text/plain": [
              "<Figure size 432x288 with 1 Axes>"
            ],
            "image/png": "[encoded data removed]"
          },
          "metadata": {
            "needs_background": "light"
          }
        }
      ]
    },
    {
      "cell_type": "markdown",
      "source": [
        "Above is the boxplot containing both engine-size and stroke, as we can see the stroke is not visible at all when graphed with the engine-size. This is the original data."
      ],
      "metadata": {
        "id": "b4c3eDFe9gBo"
      }
    },
    {
      "cell_type": "code",
      "source": [
        "answer3Scaled.boxplot(column = ['stroke'])"
      ],
      "metadata": {
        "colab": {
          "base_uri": "https://localhost:8080/",
          "height": 283
        },
        "id": "ku7Y-QZI8vv6",
        "outputId": "74fcb6ba-536b-487e-cdce-a1aedf5e6dd6"
      },
      "execution_count": 84,
      "outputs": [
        {
          "output_type": "execute_result",
          "data": {
            "text/plain": [
              "<matplotlib.axes._subplots.AxesSubplot at 0x7fcb06bbe550>"
            ]
          },
          "metadata": {},
          "execution_count": 84
        },
        {
          "output_type": "display_data",
          "data": {
            "text/plain": [
              "<Figure size 432x288 with 1 Axes>"
            ],
            "image/png": "[encoded data removed]"
          },
          "metadata": {
            "needs_background": "light"
          }
        }
      ]
    },
    {
      "cell_type": "markdown",
      "source": [
        "Above is the new data that we feature scaled and now we can see that even though we put both features in one graph we can actually decipher the data now. Scaling would be good if we wanted to display both on the same graph. However if we did them separately it really should not have that big of a difference."
      ],
      "metadata": {
        "id": "QRYay1wr9md5"
      }
    },
    {
      "cell_type": "code",
      "source": [
        "engineandStroke['engine-size'].hist()\n"
      ],
      "metadata": {
        "colab": {
          "base_uri": "https://localhost:8080/",
          "height": 283
        },
        "id": "MivkkO3z9y9D",
        "outputId": "41b4b46b-5572-4c42-b68a-b6b0ff1a0c5a"
      },
      "execution_count": 85,
      "outputs": [
        {
          "output_type": "execute_result",
          "data": {
            "text/plain": [
              "<matplotlib.axes._subplots.AxesSubplot at 0x7fcb090e0d50>"
            ]
          },
          "metadata": {},
          "execution_count": 85
        },
        {
          "output_type": "display_data",
          "data": {
            "text/plain": [
              "<Figure size 432x288 with 1 Axes>"
            ],
            "image/png": "[encoded data removed]"
          },
          "metadata": {
            "needs_background": "light"
          }
        }
      ]
    },
    {
      "cell_type": "code",
      "source": [
        "engineandStroke['stroke'].hist()"
      ],
      "metadata": {
        "colab": {
          "base_uri": "https://localhost:8080/",
          "height": 283
        },
        "id": "tK5VimarAcee",
        "outputId": "6de0e534-fc52-482c-934e-7417940ed0bb"
      },
      "execution_count": 86,
      "outputs": [
        {
          "output_type": "execute_result",
          "data": {
            "text/plain": [
              "<matplotlib.axes._subplots.AxesSubplot at 0x7fcb08f93a50>"
            ]
          },
          "metadata": {},
          "execution_count": 86
        },
        {
          "output_type": "display_data",
          "data": {
            "text/plain": [
              "<Figure size 432x288 with 1 Axes>"
            ],
            "image/png": "[encoded data removed]"
          },
          "metadata": {
            "needs_background": "light"
          }
        }
      ]
    },
    {
      "cell_type": "markdown",
      "source": [
        "In the above is a histogram of the original data."
      ],
      "metadata": {
        "id": "eEgSBaeJAmQf"
      }
    },
    {
      "cell_type": "code",
      "source": [
        "answer3Scaled['engine-size'].hist()"
      ],
      "metadata": {
        "colab": {
          "base_uri": "https://localhost:8080/",
          "height": 283
        },
        "id": "XqZo-_sz97gD",
        "outputId": "10296ea9-c2ac-4f01-decb-22ef9973cfcf"
      },
      "execution_count": 87,
      "outputs": [
        {
          "output_type": "execute_result",
          "data": {
            "text/plain": [
              "<matplotlib.axes._subplots.AxesSubplot at 0x7fcb08f7b7d0>"
            ]
          },
          "metadata": {},
          "execution_count": 87
        },
        {
          "output_type": "display_data",
          "data": {
            "text/plain": [
              "<Figure size 432x288 with 1 Axes>"
            ],
            "image/png": "[encoded data removed]"
          },
          "metadata": {
            "needs_background": "light"
          }
        }
      ]
    },
    {
      "cell_type": "code",
      "source": [
        "answer3Scaled['stroke'].hist()"
      ],
      "metadata": {
        "colab": {
          "base_uri": "https://localhost:8080/",
          "height": 283
        },
        "id": "kjPaujRjAia8",
        "outputId": "1f4dd138-df63-435f-bbae-d2e592745f31"
      },
      "execution_count": 88,
      "outputs": [
        {
          "output_type": "execute_result",
          "data": {
            "text/plain": [
              "<matplotlib.axes._subplots.AxesSubplot at 0x7fcb05cab810>"
            ]
          },
          "metadata": {},
          "execution_count": 88
        },
        {
          "output_type": "display_data",
          "data": {
            "text/plain": [
              "<Figure size 432x288 with 1 Axes>"
            ],
            "image/png": "[encoded data removed]"
          },
          "metadata": {
            "needs_background": "light"
          }
        }
      ]
    },
    {
      "cell_type": "markdown",
      "source": [
        "Above is the histogram for the scaled data. This case for histograms there is not that much of an issue using the original data."
      ],
      "metadata": {
        "id": "M1DvcAZrAqUX"
      }
    },
    {
      "cell_type": "markdown",
      "source": [
        "All in all for our data in this case with our selected attributes we don't really need to scale the data as there are no outrageous outliers in the columns. The only case that we would want to scale is if the data had crazy outliers or if we wanted display both columns in one graph as shown in the boxplot."
      ],
      "metadata": {
        "id": "Pt8Ps0c2C08B"
      }
    },
    {
      "cell_type": "markdown",
      "source": [
        "4.**Consider the symboling, make, and engine-type variables:**\n",
        "\n",
        "A) **For each variable, specify whether its content is numeric/continuous, numeric/discrete,\n",
        "categorical/nominal, or categorical/ordinal**\n",
        "\n",
        "B) **For each variable, describe the methodology you would employ for purposes of preparing its data\n",
        "values for use within a machine learning algorithm.**\n",
        "\n",
        "C)  **Using your Python skills, apply your prescribed data preparation methodologies to the three\n",
        "variables. Be sure to show a sample of your results within your Notebook.**"
      ],
      "metadata": {
        "id": "7NwbSNv6D69Z"
      }
    },
    {
      "cell_type": "code",
      "source": [
        "answer4 = pd.read_csv(\"https://raw.githubusercontent.com/Skyfallup/Summer-CSCI381-11/main/imports-85.data\", na_values='?')\n",
        "#naming the columns of the data\n",
        "answer4.columns=['symboling','normalized-losses','make','fuel-type','aspiration','num-of-doors','body-style','drive-wheels','engine-location','wheel-base','length','width','height','curb-weight','engine-type','num-of-cylinders','engine-size','fuel-system','bore','stroke','compression-ratio','horsepower','peak-rpm','city-mpg','highway-mpg','price']\n",
        "#create subset with engine size and stroke\n",
        "threeAttributes = answer4[['symboling','make','engine-type']]\n",
        "threeAttributes.head()\n",
        "\n"
      ],
      "metadata": {
        "colab": {
          "base_uri": "https://localhost:8080/",
          "height": 206
        },
        "id": "qZCDoLkbCjbO",
        "outputId": "6744ea5a-c2c7-43bc-9a23-3be1ecb40dab"
      },
      "execution_count": 89,
      "outputs": [
        {
          "output_type": "execute_result",
          "data": {
            "text/plain": [
              "   symboling         make engine-type\n",
              "0          3  alfa-romero        dohc\n",
              "1          1  alfa-romero        ohcv\n",
              "2          2         audi         ohc\n",
              "3          2         audi         ohc\n",
              "4          2         audi         ohc"
            ],
            "text/html": [
              "\n",
              "  <div id=\"df-2bd6c139-d380-46fc-87e5-bb9359938fff\">\n",
              "    <div class=\"colab-df-container\">\n",
              "      <div>\n",
              "<style scoped>\n",
              "    .dataframe tbody tr th:only-of-type {\n",
              "        vertical-align: middle;\n",
              "    }\n",
              "\n",
              "    .dataframe tbody tr th {\n",
              "        vertical-align: top;\n",
              "    }\n",
              "\n",
              "    .dataframe thead th {\n",
              "        text-align: right;\n",
              "    }\n",
              "</style>\n",
              "<table border=\"1\" class=\"dataframe\">\n",
              "  <thead>\n",
              "    <tr style=\"text-align: right;\">\n",
              "      <th></th>\n",
              "      <th>symboling</th>\n",
              "      <th>make</th>\n",
              "      <th>engine-type</th>\n",
              "    </tr>\n",
              "  </thead>\n",
              "  <tbody>\n",
              "    <tr>\n",
              "      <th>0</th>\n",
              "      <td>3</td>\n",
              "      <td>alfa-romero</td>\n",
              "      <td>dohc</td>\n",
              "    </tr>\n",
              "    <tr>\n",
              "      <th>1</th>\n",
              "      <td>1</td>\n",
              "      <td>alfa-romero</td>\n",
              "      <td>ohcv</td>\n",
              "    </tr>\n",
              "    <tr>\n",
              "      <th>2</th>\n",
              "      <td>2</td>\n",
              "      <td>audi</td>\n",
              "      <td>ohc</td>\n",
              "    </tr>\n",
              "    <tr>\n",
              "      <th>3</th>\n",
              "      <td>2</td>\n",
              "      <td>audi</td>\n",
              "      <td>ohc</td>\n",
              "    </tr>\n",
              "    <tr>\n",
              "      <th>4</th>\n",
              "      <td>2</td>\n",
              "      <td>audi</td>\n",
              "      <td>ohc</td>\n",
              "    </tr>\n",
              "  </tbody>\n",
              "</table>\n",
              "</div>\n",
              "      <button class=\"colab-df-convert\" onclick=\"convertToInteractive('df-2bd6c139-d380-46fc-87e5-bb9359938fff')\"\n",
              "              title=\"Convert this dataframe to an interactive table.\"\n",
              "              style=\"display:none;\">\n",
              "        \n",
              "  <svg xmlns=\"http://www.w3.org/2000/svg\" height=\"24px\"viewBox=\"0 0 24 24\"\n",
              "       width=\"24px\">\n",
              "    <path d=\"M0 0h24v24H0V0z\" fill=\"none\"/>\n",
              "    <path d=\"M18.56 5.44l.94 2.06.94-2.06 2.06-.94-2.06-.94-.94-2.06-.94 2.06-2.06.94zm-11 1L8.5 8.5l.94-2.06 2.06-.94-2.06-.94L8.5 2.5l-.94 2.06-2.06.94zm10 10l.94 2.06.94-2.06 2.06-.94-2.06-.94-.94-2.06-.94 2.06-2.06.94z\"/><path d=\"M17.41 7.96l-1.37-1.37c-.4-.4-.92-.59-1.43-.59-.52 0-1.04.2-1.43.59L10.3 9.45l-7.72 7.72c-.78.78-.78 2.05 0 2.83L4 21.41c.39.39.9.59 1.41.59.51 0 1.02-.2 1.41-.59l7.78-7.78 2.81-2.81c.8-.78.8-2.07 0-2.86zM5.41 20L4 18.59l7.72-7.72 1.47 1.35L5.41 20z\"/>\n",
              "  </svg>\n",
              "      </button>\n",
              "      \n",
              "  <style>\n",
              "    .colab-df-container {\n",
              "      display:flex;\n",
              "      flex-wrap:wrap;\n",
              "      gap: 12px;\n",
              "    }\n",
              "\n",
              "    .colab-df-convert {\n",
              "      background-color: #E8F0FE;\n",
              "      border: none;\n",
              "      border-radius: 50%;\n",
              "      cursor: pointer;\n",
              "      display: none;\n",
              "      fill: #1967D2;\n",
              "      height: 32px;\n",
              "      padding: 0 0 0 0;\n",
              "      width: 32px;\n",
              "    }\n",
              "\n",
              "    .colab-df-convert:hover {\n",
              "      background-color: #E2EBFA;\n",
              "      box-shadow: 0px 1px 2px rgba(60, 64, 67, 0.3), 0px 1px 3px 1px rgba(60, 64, 67, 0.15);\n",
              "      fill: #174EA6;\n",
              "    }\n",
              "\n",
              "    [theme=dark] .colab-df-convert {\n",
              "      background-color: #3B4455;\n",
              "      fill: #D2E3FC;\n",
              "    }\n",
              "\n",
              "    [theme=dark] .colab-df-convert:hover {\n",
              "      background-color: #434B5C;\n",
              "      box-shadow: 0px 1px 3px 1px rgba(0, 0, 0, 0.15);\n",
              "      filter: drop-shadow(0px 1px 2px rgba(0, 0, 0, 0.3));\n",
              "      fill: #FFFFFF;\n",
              "    }\n",
              "  </style>\n",
              "\n",
              "      <script>\n",
              "        const buttonEl =\n",
              "          document.querySelector('#df-2bd6c139-d380-46fc-87e5-bb9359938fff button.colab-df-convert');\n",
              "        buttonEl.style.display =\n",
              "          google.colab.kernel.accessAllowed ? 'block' : 'none';\n",
              "\n",
              "        async function convertToInteractive(key) {\n",
              "          const element = document.querySelector('#df-2bd6c139-d380-46fc-87e5-bb9359938fff');\n",
              "          const dataTable =\n",
              "            await google.colab.kernel.invokeFunction('convertToInteractive',\n",
              "                                                     [key], {});\n",
              "          if (!dataTable) return;\n",
              "\n",
              "          const docLinkHtml = 'Like what you see? Visit the ' +\n",
              "            '<a target=\"_blank\" href=https://colab.research.google.com/notebooks/data_table.ipynb>data table notebook</a>'\n",
              "            + ' to learn more about interactive tables.';\n",
              "          element.innerHTML = '';\n",
              "          dataTable['output_type'] = 'display_data';\n",
              "          await google.colab.output.renderOutput(dataTable, element);\n",
              "          const docLink = document.createElement('div');\n",
              "          docLink.innerHTML = docLinkHtml;\n",
              "          element.appendChild(docLink);\n",
              "        }\n",
              "      </script>\n",
              "    </div>\n",
              "  </div>\n",
              "  "
            ]
          },
          "metadata": {},
          "execution_count": 89
        }
      ]
    },
    {
      "cell_type": "markdown",
      "source": [
        "4A) symboling is numeric discrete.\n",
        "\n",
        "make is categorical nominal.\n",
        "\n",
        "engine-type is categorical nominal\n",
        "\n",
        "4B) A way to prep the attributes would be to clean up the data. A way to do this would be to check for any null values, missing values, or values that should not exist in that column. Then if found that there are null values or missing values fill them in with relevant information or drop them completely. If no issues are found then just continue on with the machine learning.\n",
        "\n",
        "4C)"
      ],
      "metadata": {
        "id": "toEMQah6F3WT"
      }
    },
    {
      "cell_type": "code",
      "source": [
        "threeAttributes.isnull().sum()"
      ],
      "metadata": {
        "id": "QC6OreN-b-5g",
        "colab": {
          "base_uri": "https://localhost:8080/"
        },
        "outputId": "aca3a499-39ca-4c00-b74f-0f564c955fb6"
      },
      "execution_count": 92,
      "outputs": [
        {
          "output_type": "execute_result",
          "data": {
            "text/plain": [
              "symboling      0\n",
              "make           0\n",
              "engine-type    0\n",
              "dtype: int64"
            ]
          },
          "metadata": {},
          "execution_count": 92
        }
      ]
    },
    {
      "cell_type": "code",
      "source": [
        "threeAttributes.describe()"
      ],
      "metadata": {
        "colab": {
          "base_uri": "https://localhost:8080/",
          "height": 300
        },
        "id": "lSlYQXCuVUI2",
        "outputId": "623f0d9c-bf5a-43d5-b636-9fa4e9d46b74"
      },
      "execution_count": 93,
      "outputs": [
        {
          "output_type": "execute_result",
          "data": {
            "text/plain": [
              "        symboling\n",
              "count  204.000000\n",
              "mean     0.823529\n",
              "std      1.239035\n",
              "min     -2.000000\n",
              "25%      0.000000\n",
              "50%      1.000000\n",
              "75%      2.000000\n",
              "max      3.000000"
            ],
            "text/html": [
              "\n",
              "  <div id=\"df-73d108a9-58d0-4021-8562-8b6fe2a04dfc\">\n",
              "    <div class=\"colab-df-container\">\n",
              "      <div>\n",
              "<style scoped>\n",
              "    .dataframe tbody tr th:only-of-type {\n",
              "        vertical-align: middle;\n",
              "    }\n",
              "\n",
              "    .dataframe tbody tr th {\n",
              "        vertical-align: top;\n",
              "    }\n",
              "\n",
              "    .dataframe thead th {\n",
              "        text-align: right;\n",
              "    }\n",
              "</style>\n",
              "<table border=\"1\" class=\"dataframe\">\n",
              "  <thead>\n",
              "    <tr style=\"text-align: right;\">\n",
              "      <th></th>\n",
              "      <th>symboling</th>\n",
              "    </tr>\n",
              "  </thead>\n",
              "  <tbody>\n",
              "    <tr>\n",
              "      <th>count</th>\n",
              "      <td>204.000000</td>\n",
              "    </tr>\n",
              "    <tr>\n",
              "      <th>mean</th>\n",
              "      <td>0.823529</td>\n",
              "    </tr>\n",
              "    <tr>\n",
              "      <th>std</th>\n",
              "      <td>1.239035</td>\n",
              "    </tr>\n",
              "    <tr>\n",
              "      <th>min</th>\n",
              "      <td>-2.000000</td>\n",
              "    </tr>\n",
              "    <tr>\n",
              "      <th>25%</th>\n",
              "      <td>0.000000</td>\n",
              "    </tr>\n",
              "    <tr>\n",
              "      <th>50%</th>\n",
              "      <td>1.000000</td>\n",
              "    </tr>\n",
              "    <tr>\n",
              "      <th>75%</th>\n",
              "      <td>2.000000</td>\n",
              "    </tr>\n",
              "    <tr>\n",
              "      <th>max</th>\n",
              "      <td>3.000000</td>\n",
              "    </tr>\n",
              "  </tbody>\n",
              "</table>\n",
              "</div>\n",
              "      <button class=\"colab-df-convert\" onclick=\"convertToInteractive('df-73d108a9-58d0-4021-8562-8b6fe2a04dfc')\"\n",
              "              title=\"Convert this dataframe to an interactive table.\"\n",
              "              style=\"display:none;\">\n",
              "        \n",
              "  <svg xmlns=\"http://www.w3.org/2000/svg\" height=\"24px\"viewBox=\"0 0 24 24\"\n",
              "       width=\"24px\">\n",
              "    <path d=\"M0 0h24v24H0V0z\" fill=\"none\"/>\n",
              "    <path d=\"M18.56 5.44l.94 2.06.94-2.06 2.06-.94-2.06-.94-.94-2.06-.94 2.06-2.06.94zm-11 1L8.5 8.5l.94-2.06 2.06-.94-2.06-.94L8.5 2.5l-.94 2.06-2.06.94zm10 10l.94 2.06.94-2.06 2.06-.94-2.06-.94-.94-2.06-.94 2.06-2.06.94z\"/><path d=\"M17.41 7.96l-1.37-1.37c-.4-.4-.92-.59-1.43-.59-.52 0-1.04.2-1.43.59L10.3 9.45l-7.72 7.72c-.78.78-.78 2.05 0 2.83L4 21.41c.39.39.9.59 1.41.59.51 0 1.02-.2 1.41-.59l7.78-7.78 2.81-2.81c.8-.78.8-2.07 0-2.86zM5.41 20L4 18.59l7.72-7.72 1.47 1.35L5.41 20z\"/>\n",
              "  </svg>\n",
              "      </button>\n",
              "      \n",
              "  <style>\n",
              "    .colab-df-container {\n",
              "      display:flex;\n",
              "      flex-wrap:wrap;\n",
              "      gap: 12px;\n",
              "    }\n",
              "\n",
              "    .colab-df-convert {\n",
              "      background-color: #E8F0FE;\n",
              "      border: none;\n",
              "      border-radius: 50%;\n",
              "      cursor: pointer;\n",
              "      display: none;\n",
              "      fill: #1967D2;\n",
              "      height: 32px;\n",
              "      padding: 0 0 0 0;\n",
              "      width: 32px;\n",
              "    }\n",
              "\n",
              "    .colab-df-convert:hover {\n",
              "      background-color: #E2EBFA;\n",
              "      box-shadow: 0px 1px 2px rgba(60, 64, 67, 0.3), 0px 1px 3px 1px rgba(60, 64, 67, 0.15);\n",
              "      fill: #174EA6;\n",
              "    }\n",
              "\n",
              "    [theme=dark] .colab-df-convert {\n",
              "      background-color: #3B4455;\n",
              "      fill: #D2E3FC;\n",
              "    }\n",
              "\n",
              "    [theme=dark] .colab-df-convert:hover {\n",
              "      background-color: #434B5C;\n",
              "      box-shadow: 0px 1px 3px 1px rgba(0, 0, 0, 0.15);\n",
              "      filter: drop-shadow(0px 1px 2px rgba(0, 0, 0, 0.3));\n",
              "      fill: #FFFFFF;\n",
              "    }\n",
              "  </style>\n",
              "\n",
              "      <script>\n",
              "        const buttonEl =\n",
              "          document.querySelector('#df-73d108a9-58d0-4021-8562-8b6fe2a04dfc button.colab-df-convert');\n",
              "        buttonEl.style.display =\n",
              "          google.colab.kernel.accessAllowed ? 'block' : 'none';\n",
              "\n",
              "        async function convertToInteractive(key) {\n",
              "          const element = document.querySelector('#df-73d108a9-58d0-4021-8562-8b6fe2a04dfc');\n",
              "          const dataTable =\n",
              "            await google.colab.kernel.invokeFunction('convertToInteractive',\n",
              "                                                     [key], {});\n",
              "          if (!dataTable) return;\n",
              "\n",
              "          const docLinkHtml = 'Like what you see? Visit the ' +\n",
              "            '<a target=\"_blank\" href=https://colab.research.google.com/notebooks/data_table.ipynb>data table notebook</a>'\n",
              "            + ' to learn more about interactive tables.';\n",
              "          element.innerHTML = '';\n",
              "          dataTable['output_type'] = 'display_data';\n",
              "          await google.colab.output.renderOutput(dataTable, element);\n",
              "          const docLink = document.createElement('div');\n",
              "          docLink.innerHTML = docLinkHtml;\n",
              "          element.appendChild(docLink);\n",
              "        }\n",
              "      </script>\n",
              "    </div>\n",
              "  </div>\n",
              "  "
            ]
          },
          "metadata": {},
          "execution_count": 93
        }
      ]
    },
    {
      "cell_type": "code",
      "source": [
        "threeAttributes.nunique()\n",
        "print(df['symboling'].unique())\n",
        "print(df['make'].unique())\n",
        "print(df['engine-type'].unique())"
      ],
      "metadata": {
        "colab": {
          "base_uri": "https://localhost:8080/"
        },
        "id": "ATWaKkNYVXsU",
        "outputId": "c1c7624e-d892-4bc7-8f75-fbb7073876e6"
      },
      "execution_count": 96,
      "outputs": [
        {
          "output_type": "stream",
          "name": "stdout",
          "text": [
            "[ 3  1  2  0 -1 -2]\n",
            "['alfa-romero' 'audi' 'bmw' 'chevrolet' 'dodge' 'honda' 'isuzu' 'jaguar'\n",
            " 'mazda' 'mercedes-benz' 'mercury' 'mitsubishi' 'nissan' 'peugot'\n",
            " 'plymouth' 'porsche' 'renault' 'saab' 'subaru' 'toyota' 'volkswagen'\n",
            " 'volvo']\n",
            "['dohc' 'ohcv' 'ohc' 'l' 'rotor' 'ohcf' 'dohcv']\n"
          ]
        }
      ]
    },
    {
      "cell_type": "markdown",
      "source": [
        "From what we can see all the values in the three attributes look fine. No need to do anything for the attributes."
      ],
      "metadata": {
        "id": "_J4pBE4CE-6L"
      }
    },
    {
      "cell_type": "markdown",
      "source": [
        "5.**Consider the wheel-base, length, width, height, curb-weight, engine-size, compression ratio,\n",
        "horsepower, peak-rpm, and city-mpg variables. Using your dimensionality reduction expertise, use\n",
        "Python to reduce the dimensionality of this group of variables to a set of new orthogonal features. Be\n",
        "sure to include appropriate commentary explaining the dimensionality reduction method you have\n",
        "elected to implement and discuss the results of your efforts. For example, you should explain how\n",
        "many orthogonal features your approach has generated as well as how much variability is explained by\n",
        "each of your new features.**"
      ],
      "metadata": {
        "id": "LLVXKpCKWn04"
      }
    },
    {
      "cell_type": "code",
      "source": [
        "from sklearn import datasets\n",
        "import warnings\n",
        "warnings.filterwarnings('ignore')\n",
        "\n",
        "from sklearn.decomposition import PCA\n",
        "from sklearn.svm import SVC\n",
        "from sklearn import model_selection\n",
        "from sklearn.preprocessing import StandardScaler\n",
        "from pandas import DataFrame\n",
        "\n",
        "#read dataset\n",
        "answer5 = pd.read_csv(\"https://raw.githubusercontent.com/Skyfallup/Summer-CSCI381-11/main/imports-85.data\", na_values='?')\n",
        "#name columns\n",
        "answer5.columns=['symboling','normalized-losses','make','fuel-type','aspiration','num-of-doors','body-style','drive-wheels','engine-location','wheel-base','length','width','height','curb-weight','engine-type','num-of-cylinders','engine-size','fuel-system','bore','stroke','compression-ratio','horsepower','peak-rpm','city-mpg','highway-mpg','price']\n",
        "#create subset of wanted attributes\n",
        "answer5Subset = answer5[['wheel-base','length','width','height','curb-weight','engine-size','compression-ratio','horsepower','peak-rpm','city-mpg']]\n",
        "#change columns to numeric\n",
        "answer5Subset['horsepower']=pd.to_numeric(df['horsepower'], errors= 'coerce')\n",
        "answer5Subset['peak-rpm']=pd.to_numeric(df['peak-rpm'], errors= 'coerce')\n",
        "answer5Subset['horsepower'].fillna(df['horsepower'].median(), inplace=True)\n",
        "answer5Subset['peak-rpm'].fillna(df['peak-rpm'].median(), inplace=True)\n",
        "#answer5Subset.isnull().sum()\n",
        "#number of components we want\n",
        "pca = PCA(n_components=2)\n",
        "#fit so that we may use variance ratio\n",
        "pca.fit(answer5Subset)\n",
        "#variance ratio \n",
        "print(pca.explained_variance_ratio_)\n"
      ],
      "metadata": {
        "colab": {
          "base_uri": "https://localhost:8080/"
        },
        "id": "2FUdR2ljazHB",
        "outputId": "f3f96b49-a79b-41c5-e138-e37788339204"
      },
      "execution_count": 137,
      "outputs": [
        {
          "output_type": "stream",
          "name": "stdout",
          "text": [
            "[0.63886895 0.35903717]\n"
          ]
        }
      ]
    },
    {
      "cell_type": "markdown",
      "source": [
        "Using PCA to the dataset has given us two principal components, first one is 63.886895 variance and the second is 35.903717 variance. The two principal components add up to more than 99% of the variance in the data set."
      ],
      "metadata": {
        "id": "nvHWso0SjTrS"
      }
    },
    {
      "cell_type": "markdown",
      "source": [
        "##Conclusion\n"
      ],
      "metadata": {
        "id": "ggRoqzxpkAyh"
      }
    },
    {
      "cell_type": "markdown",
      "source": [
        "In conclusion from my studies there are a lot of things we can take away from this dataset.\n",
        "\n",
        "* heel-base, length, width, height, curb-weight, engine-size, compression ratio, horsepower, peak-rpm, and city-mpg variables add up to 99% of the variance in the data set.\n",
        "\n",
        "* Engine and curb-weight have a high positive correlation with the price.\n",
        "\n",
        "* The engine size is pretty highly correlated with horse power and price\n",
        "\n",
        "* Curb weight very heavily is correlated negatively with highway mpg, the weight makes the highway miles per gallon slower.\n",
        "\n",
        "* Toyota is the most popular brand.\n",
        "\n",
        "* Mercedes benz is a luxury brand."
      ],
      "metadata": {
        "id": "L7Lg5Ym5kD1-"
      }
    },
    {
      "cell_type": "markdown",
      "source": [
        "## References\n"
      ],
      "metadata": {
        "id": "tj86xxHMnK1k"
      }
    },
    {
      "cell_type": "markdown",
      "source": [
        "(https://archive.ics.uci.edu/ml/datasets/Automobile)\n",
        "\n",
        "(https://driving-tests.org/beginner-drivers/types-and-grades-of-fuel/)\n",
        "\n",
        "(https://www.carwow.co.uk/guides/glossary/what-is-a-car-wheelbase-0282)\n",
        "\n",
        "(https://www.newroads.ca/blog/curb-weight-vs-gross-vehicle-weight/)\n",
        "\n",
        "(https://www.mechanicalbooster.com/2016/08/different-types-of-engine.html)\n",
        "\n",
        "(https://www.cars.com/auto-repair/glossary/fuel-system/)\n",
        "\n",
        "(https://www.roadandtrack.com/car-culture/a30443334/engine-stroke-vs-bore-explained/)\n",
        "\n",
        "(https://www.military.com/off-duty/autos/auto-repair-the-four-stroke-power-cycle.html)\n",
        "\n",
        "(https://rislone.com/blog/engine-oil/expert-overview-what-causes-engine-compression-loss-anyway/)\n",
        "\n",
        "(https://www.bryantmotors.com/car-buying-guide/basics-horsepower-torque.html)\n",
        "\n",
        "(https://www.cars.com/articles/what-does-rpm-mean-in-cars-1420697442798/)\n",
        "\n",
        "(https://www.kbb.com/what-is/highway-mpg/)\n",
        "\n",
        "(https://www.caranddriver.com/research/a31873205/mpg-meaning/)\n",
        "\n"
      ],
      "metadata": {
        "id": "-MUyz73FnL-7"
      }
    }
  ]
}